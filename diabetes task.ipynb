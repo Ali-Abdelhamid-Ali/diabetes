{
 "cells": [
  {
   "cell_type": "code",
   "execution_count": 1,
   "metadata": {},
   "outputs": [],
   "source": [
    "import pandas as pd\n",
    "import numpy as np\n",
    "import matplotlib.pyplot as plt\n",
    "import seaborn as sns\n",
    "import plotly.express as px\n",
    "from sklearn.linear_model import LinearRegression, Lasso , Ridge ,LogisticRegression\n",
    "from sklearn.model_selection import train_test_split , GridSearchCV\n",
    "from sklearn.metrics import mean_squared_error,mean_absolute_error,r2_score,accuracy_score,confusion_matrix,recall_score,precision_score\n",
    "from sklearn.metrics import f1_score,classification_report,roc_curve,roc_auc_score\n",
    "from sklearn.preprocessing import PolynomialFeatures,StandardScaler,OneHotEncoder , LabelEncoder,MinMaxScaler\n",
    "from sklearn import linear_model\n",
    "import math\n",
    "from sklearn.impute import SimpleImputer\n",
    "from sklearn.impute import KNNImputer\n",
    "from imblearn.under_sampling import RandomUnderSampler\n",
    "import xgboost as xgb\n",
    "from xgboost import XGBClassifier\n",
    "from imblearn.over_sampling import SMOTE\n",
    "from sklearn.neighbors import KNeighborsClassifier,KNeighborsRegressor\n",
    "from sklearn.svm import SVC,SVR\n",
    "from sklearn.tree import DecisionTreeRegressor , plot_tree, DecisionTreeClassifier\n",
    "from sklearn.ensemble import RandomForestClassifier , GradientBoostingClassifier,BaggingClassifier,AdaBoostClassifier , RandomForestRegressor\n",
    "from sklearn.datasets import load_iris\n",
    "import warnings\n",
    "warnings.simplefilter(action='ignore', category=FutureWarning)\n",
    "pd.set_option('display.max_rows', None) \n",
    "pd.set_option('display.max_columns', None)"
   ]
  },
  {
   "cell_type": "code",
   "execution_count": 2,
   "metadata": {},
   "outputs": [
    {
     "name": "stdout",
     "output_type": "stream",
     "text": [
      "(768, 9)\n"
     ]
    },
    {
     "data": {
      "text/html": [
       "<div>\n",
       "<style scoped>\n",
       "    .dataframe tbody tr th:only-of-type {\n",
       "        vertical-align: middle;\n",
       "    }\n",
       "\n",
       "    .dataframe tbody tr th {\n",
       "        vertical-align: top;\n",
       "    }\n",
       "\n",
       "    .dataframe thead th {\n",
       "        text-align: right;\n",
       "    }\n",
       "</style>\n",
       "<table border=\"1\" class=\"dataframe\">\n",
       "  <thead>\n",
       "    <tr style=\"text-align: right;\">\n",
       "      <th></th>\n",
       "      <th>Pregnancies</th>\n",
       "      <th>Glucose</th>\n",
       "      <th>BloodPressure</th>\n",
       "      <th>SkinThickness</th>\n",
       "      <th>Insulin</th>\n",
       "      <th>BMI</th>\n",
       "      <th>DiabetesPedigreeFunction</th>\n",
       "      <th>Age</th>\n",
       "      <th>Outcome</th>\n",
       "    </tr>\n",
       "  </thead>\n",
       "  <tbody>\n",
       "    <tr>\n",
       "      <th>0</th>\n",
       "      <td>6</td>\n",
       "      <td>148</td>\n",
       "      <td>72</td>\n",
       "      <td>35</td>\n",
       "      <td>0</td>\n",
       "      <td>33.6</td>\n",
       "      <td>0.627</td>\n",
       "      <td>50</td>\n",
       "      <td>1</td>\n",
       "    </tr>\n",
       "    <tr>\n",
       "      <th>1</th>\n",
       "      <td>1</td>\n",
       "      <td>85</td>\n",
       "      <td>66</td>\n",
       "      <td>29</td>\n",
       "      <td>0</td>\n",
       "      <td>26.6</td>\n",
       "      <td>0.351</td>\n",
       "      <td>31</td>\n",
       "      <td>0</td>\n",
       "    </tr>\n",
       "    <tr>\n",
       "      <th>2</th>\n",
       "      <td>8</td>\n",
       "      <td>183</td>\n",
       "      <td>64</td>\n",
       "      <td>0</td>\n",
       "      <td>0</td>\n",
       "      <td>23.3</td>\n",
       "      <td>0.672</td>\n",
       "      <td>32</td>\n",
       "      <td>1</td>\n",
       "    </tr>\n",
       "    <tr>\n",
       "      <th>3</th>\n",
       "      <td>1</td>\n",
       "      <td>89</td>\n",
       "      <td>66</td>\n",
       "      <td>23</td>\n",
       "      <td>94</td>\n",
       "      <td>28.1</td>\n",
       "      <td>0.167</td>\n",
       "      <td>21</td>\n",
       "      <td>0</td>\n",
       "    </tr>\n",
       "    <tr>\n",
       "      <th>4</th>\n",
       "      <td>0</td>\n",
       "      <td>137</td>\n",
       "      <td>40</td>\n",
       "      <td>35</td>\n",
       "      <td>168</td>\n",
       "      <td>43.1</td>\n",
       "      <td>2.288</td>\n",
       "      <td>33</td>\n",
       "      <td>1</td>\n",
       "    </tr>\n",
       "  </tbody>\n",
       "</table>\n",
       "</div>"
      ],
      "text/plain": [
       "   Pregnancies  Glucose  BloodPressure  SkinThickness  Insulin   BMI  \\\n",
       "0            6      148             72             35        0  33.6   \n",
       "1            1       85             66             29        0  26.6   \n",
       "2            8      183             64              0        0  23.3   \n",
       "3            1       89             66             23       94  28.1   \n",
       "4            0      137             40             35      168  43.1   \n",
       "\n",
       "   DiabetesPedigreeFunction  Age  Outcome  \n",
       "0                     0.627   50        1  \n",
       "1                     0.351   31        0  \n",
       "2                     0.672   32        1  \n",
       "3                     0.167   21        0  \n",
       "4                     2.288   33        1  "
      ]
     },
     "execution_count": 2,
     "metadata": {},
     "output_type": "execute_result"
    }
   ],
   "source": [
    "df = pd.read_csv('diabetes.csv')\n",
    "print (df.shape)\n",
    "df.head ()"
   ]
  },
  {
   "cell_type": "markdown",
   "metadata": {},
   "source": [
    "### EDA"
   ]
  },
  {
   "cell_type": "code",
   "execution_count": 3,
   "metadata": {},
   "outputs": [
    {
     "data": {
      "text/plain": [
       "Pregnancies                 0\n",
       "Glucose                     0\n",
       "BloodPressure               0\n",
       "SkinThickness               0\n",
       "Insulin                     0\n",
       "BMI                         0\n",
       "DiabetesPedigreeFunction    0\n",
       "Age                         0\n",
       "Outcome                     0\n",
       "dtype: int64"
      ]
     },
     "execution_count": 3,
     "metadata": {},
     "output_type": "execute_result"
    }
   ],
   "source": [
    "df.isna ().sum ()"
   ]
  },
  {
   "cell_type": "code",
   "execution_count": 4,
   "metadata": {},
   "outputs": [
    {
     "data": {
      "text/html": [
       "<div>\n",
       "<style scoped>\n",
       "    .dataframe tbody tr th:only-of-type {\n",
       "        vertical-align: middle;\n",
       "    }\n",
       "\n",
       "    .dataframe tbody tr th {\n",
       "        vertical-align: top;\n",
       "    }\n",
       "\n",
       "    .dataframe thead th {\n",
       "        text-align: right;\n",
       "    }\n",
       "</style>\n",
       "<table border=\"1\" class=\"dataframe\">\n",
       "  <thead>\n",
       "    <tr style=\"text-align: right;\">\n",
       "      <th></th>\n",
       "      <th>Pregnancies</th>\n",
       "      <th>Glucose</th>\n",
       "      <th>BloodPressure</th>\n",
       "      <th>SkinThickness</th>\n",
       "      <th>Insulin</th>\n",
       "      <th>BMI</th>\n",
       "      <th>DiabetesPedigreeFunction</th>\n",
       "      <th>Age</th>\n",
       "      <th>Outcome</th>\n",
       "    </tr>\n",
       "  </thead>\n",
       "  <tbody>\n",
       "    <tr>\n",
       "      <th>count</th>\n",
       "      <td>768.000000</td>\n",
       "      <td>768.000000</td>\n",
       "      <td>768.000000</td>\n",
       "      <td>768.000000</td>\n",
       "      <td>768.000000</td>\n",
       "      <td>768.000000</td>\n",
       "      <td>768.000000</td>\n",
       "      <td>768.000000</td>\n",
       "      <td>768.000000</td>\n",
       "    </tr>\n",
       "    <tr>\n",
       "      <th>mean</th>\n",
       "      <td>3.845052</td>\n",
       "      <td>120.894531</td>\n",
       "      <td>69.105469</td>\n",
       "      <td>20.536458</td>\n",
       "      <td>79.799479</td>\n",
       "      <td>31.992578</td>\n",
       "      <td>0.471876</td>\n",
       "      <td>33.240885</td>\n",
       "      <td>0.348958</td>\n",
       "    </tr>\n",
       "    <tr>\n",
       "      <th>std</th>\n",
       "      <td>3.369578</td>\n",
       "      <td>31.972618</td>\n",
       "      <td>19.355807</td>\n",
       "      <td>15.952218</td>\n",
       "      <td>115.244002</td>\n",
       "      <td>7.884160</td>\n",
       "      <td>0.331329</td>\n",
       "      <td>11.760232</td>\n",
       "      <td>0.476951</td>\n",
       "    </tr>\n",
       "    <tr>\n",
       "      <th>min</th>\n",
       "      <td>0.000000</td>\n",
       "      <td>0.000000</td>\n",
       "      <td>0.000000</td>\n",
       "      <td>0.000000</td>\n",
       "      <td>0.000000</td>\n",
       "      <td>0.000000</td>\n",
       "      <td>0.078000</td>\n",
       "      <td>21.000000</td>\n",
       "      <td>0.000000</td>\n",
       "    </tr>\n",
       "    <tr>\n",
       "      <th>25%</th>\n",
       "      <td>1.000000</td>\n",
       "      <td>99.000000</td>\n",
       "      <td>62.000000</td>\n",
       "      <td>0.000000</td>\n",
       "      <td>0.000000</td>\n",
       "      <td>27.300000</td>\n",
       "      <td>0.243750</td>\n",
       "      <td>24.000000</td>\n",
       "      <td>0.000000</td>\n",
       "    </tr>\n",
       "    <tr>\n",
       "      <th>50%</th>\n",
       "      <td>3.000000</td>\n",
       "      <td>117.000000</td>\n",
       "      <td>72.000000</td>\n",
       "      <td>23.000000</td>\n",
       "      <td>30.500000</td>\n",
       "      <td>32.000000</td>\n",
       "      <td>0.372500</td>\n",
       "      <td>29.000000</td>\n",
       "      <td>0.000000</td>\n",
       "    </tr>\n",
       "    <tr>\n",
       "      <th>75%</th>\n",
       "      <td>6.000000</td>\n",
       "      <td>140.250000</td>\n",
       "      <td>80.000000</td>\n",
       "      <td>32.000000</td>\n",
       "      <td>127.250000</td>\n",
       "      <td>36.600000</td>\n",
       "      <td>0.626250</td>\n",
       "      <td>41.000000</td>\n",
       "      <td>1.000000</td>\n",
       "    </tr>\n",
       "    <tr>\n",
       "      <th>max</th>\n",
       "      <td>17.000000</td>\n",
       "      <td>199.000000</td>\n",
       "      <td>122.000000</td>\n",
       "      <td>99.000000</td>\n",
       "      <td>846.000000</td>\n",
       "      <td>67.100000</td>\n",
       "      <td>2.420000</td>\n",
       "      <td>81.000000</td>\n",
       "      <td>1.000000</td>\n",
       "    </tr>\n",
       "  </tbody>\n",
       "</table>\n",
       "</div>"
      ],
      "text/plain": [
       "       Pregnancies     Glucose  BloodPressure  SkinThickness     Insulin  \\\n",
       "count   768.000000  768.000000     768.000000     768.000000  768.000000   \n",
       "mean      3.845052  120.894531      69.105469      20.536458   79.799479   \n",
       "std       3.369578   31.972618      19.355807      15.952218  115.244002   \n",
       "min       0.000000    0.000000       0.000000       0.000000    0.000000   \n",
       "25%       1.000000   99.000000      62.000000       0.000000    0.000000   \n",
       "50%       3.000000  117.000000      72.000000      23.000000   30.500000   \n",
       "75%       6.000000  140.250000      80.000000      32.000000  127.250000   \n",
       "max      17.000000  199.000000     122.000000      99.000000  846.000000   \n",
       "\n",
       "              BMI  DiabetesPedigreeFunction         Age     Outcome  \n",
       "count  768.000000                768.000000  768.000000  768.000000  \n",
       "mean    31.992578                  0.471876   33.240885    0.348958  \n",
       "std      7.884160                  0.331329   11.760232    0.476951  \n",
       "min      0.000000                  0.078000   21.000000    0.000000  \n",
       "25%     27.300000                  0.243750   24.000000    0.000000  \n",
       "50%     32.000000                  0.372500   29.000000    0.000000  \n",
       "75%     36.600000                  0.626250   41.000000    1.000000  \n",
       "max     67.100000                  2.420000   81.000000    1.000000  "
      ]
     },
     "execution_count": 4,
     "metadata": {},
     "output_type": "execute_result"
    }
   ],
   "source": [
    "df.describe ()"
   ]
  },
  {
   "cell_type": "code",
   "execution_count": 5,
   "metadata": {},
   "outputs": [
    {
     "name": "stdout",
     "output_type": "stream",
     "text": [
      "<class 'pandas.core.frame.DataFrame'>\n",
      "RangeIndex: 768 entries, 0 to 767\n",
      "Data columns (total 9 columns):\n",
      " #   Column                    Non-Null Count  Dtype  \n",
      "---  ------                    --------------  -----  \n",
      " 0   Pregnancies               768 non-null    int64  \n",
      " 1   Glucose                   768 non-null    int64  \n",
      " 2   BloodPressure             768 non-null    int64  \n",
      " 3   SkinThickness             768 non-null    int64  \n",
      " 4   Insulin                   768 non-null    int64  \n",
      " 5   BMI                       768 non-null    float64\n",
      " 6   DiabetesPedigreeFunction  768 non-null    float64\n",
      " 7   Age                       768 non-null    int64  \n",
      " 8   Outcome                   768 non-null    int64  \n",
      "dtypes: float64(2), int64(7)\n",
      "memory usage: 54.1 KB\n"
     ]
    }
   ],
   "source": [
    "df.info()"
   ]
  },
  {
   "cell_type": "code",
   "execution_count": 6,
   "metadata": {},
   "outputs": [
    {
     "data": {
      "text/plain": [
       "0"
      ]
     },
     "execution_count": 6,
     "metadata": {},
     "output_type": "execute_result"
    }
   ],
   "source": [
    "df.duplicated().sum()"
   ]
  },
  {
   "cell_type": "markdown",
   "metadata": {},
   "source": [
    "### important columns"
   ]
  },
  {
   "cell_type": "code",
   "execution_count": 7,
   "metadata": {},
   "outputs": [
    {
     "data": {
      "text/plain": [
       "<Axes: >"
      ]
     },
     "execution_count": 7,
     "metadata": {},
     "output_type": "execute_result"
    },
    {
     "data": {
      "image/png": "[encoded data removed]",
      "text/plain": [
       "<Figure size 640x480 with 2 Axes>"
      ]
     },
     "metadata": {},
     "output_type": "display_data"
    }
   ],
   "source": [
    "corr_matrix = df.corr()[['Outcome']].sort_values(by='Outcome', ascending=False)\n",
    "sns.heatmap(corr_matrix, annot=True)"
   ]
  },
  {
   "cell_type": "code",
   "execution_count": 8,
   "metadata": {},
   "outputs": [
    {
     "data": {
      "text/plain": [
       "Outcome\n",
       "0    500\n",
       "1    268\n",
       "Name: count, dtype: int64"
      ]
     },
     "execution_count": 8,
     "metadata": {},
     "output_type": "execute_result"
    }
   ],
   "source": [
    "df[\"Outcome\"].value_counts()"
   ]
  },
  {
   "cell_type": "code",
   "execution_count": 9,
   "metadata": {},
   "outputs": [
    {
     "data": {
      "text/plain": [
       "<Axes: >"
      ]
     },
     "execution_count": 9,
     "metadata": {},
     "output_type": "execute_result"
    },
    {
     "data": {
      "image/png": "[encoded data removed]",
      "text/plain": [
       "<Figure size 2000x1000 with 1 Axes>"
      ]
     },
     "metadata": {},
     "output_type": "display_data"
    }
   ],
   "source": [
    "df.boxplot(figsize=(20,10))"
   ]
  },
  {
   "cell_type": "code",
   "execution_count": 10,
   "metadata": {},
   "outputs": [
    {
     "data": {
      "text/html": [
       "<div>\n",
       "<style scoped>\n",
       "    .dataframe tbody tr th:only-of-type {\n",
       "        vertical-align: middle;\n",
       "    }\n",
       "\n",
       "    .dataframe tbody tr th {\n",
       "        vertical-align: top;\n",
       "    }\n",
       "\n",
       "    .dataframe thead th {\n",
       "        text-align: right;\n",
       "    }\n",
       "</style>\n",
       "<table border=\"1\" class=\"dataframe\">\n",
       "  <thead>\n",
       "    <tr style=\"text-align: right;\">\n",
       "      <th></th>\n",
       "      <th>Pregnancies</th>\n",
       "      <th>Glucose</th>\n",
       "      <th>BloodPressure</th>\n",
       "      <th>SkinThickness</th>\n",
       "      <th>Insulin</th>\n",
       "      <th>BMI</th>\n",
       "      <th>DiabetesPedigreeFunction</th>\n",
       "      <th>Age</th>\n",
       "      <th>Outcome</th>\n",
       "    </tr>\n",
       "  </thead>\n",
       "  <tbody>\n",
       "    <tr>\n",
       "      <th>0</th>\n",
       "      <td>6.0</td>\n",
       "      <td>148.0</td>\n",
       "      <td>72.0</td>\n",
       "      <td>35.0</td>\n",
       "      <td>0.0</td>\n",
       "      <td>33.6</td>\n",
       "      <td>0.627000</td>\n",
       "      <td>50.0</td>\n",
       "      <td>1</td>\n",
       "    </tr>\n",
       "    <tr>\n",
       "      <th>1</th>\n",
       "      <td>1.0</td>\n",
       "      <td>85.0</td>\n",
       "      <td>66.0</td>\n",
       "      <td>29.0</td>\n",
       "      <td>0.0</td>\n",
       "      <td>26.6</td>\n",
       "      <td>0.351000</td>\n",
       "      <td>31.0</td>\n",
       "      <td>0</td>\n",
       "    </tr>\n",
       "    <tr>\n",
       "      <th>2</th>\n",
       "      <td>8.0</td>\n",
       "      <td>183.0</td>\n",
       "      <td>64.0</td>\n",
       "      <td>0.0</td>\n",
       "      <td>0.0</td>\n",
       "      <td>23.3</td>\n",
       "      <td>0.672000</td>\n",
       "      <td>32.0</td>\n",
       "      <td>1</td>\n",
       "    </tr>\n",
       "    <tr>\n",
       "      <th>3</th>\n",
       "      <td>1.0</td>\n",
       "      <td>89.0</td>\n",
       "      <td>66.0</td>\n",
       "      <td>23.0</td>\n",
       "      <td>94.0</td>\n",
       "      <td>28.1</td>\n",
       "      <td>0.167000</td>\n",
       "      <td>21.0</td>\n",
       "      <td>0</td>\n",
       "    </tr>\n",
       "    <tr>\n",
       "      <th>4</th>\n",
       "      <td>0.0</td>\n",
       "      <td>137.0</td>\n",
       "      <td>40.0</td>\n",
       "      <td>35.0</td>\n",
       "      <td>168.0</td>\n",
       "      <td>43.1</td>\n",
       "      <td>0.613165</td>\n",
       "      <td>33.0</td>\n",
       "      <td>1</td>\n",
       "    </tr>\n",
       "  </tbody>\n",
       "</table>\n",
       "</div>"
      ],
      "text/plain": [
       "   Pregnancies  Glucose  BloodPressure  SkinThickness  Insulin   BMI  \\\n",
       "0          6.0    148.0           72.0           35.0      0.0  33.6   \n",
       "1          1.0     85.0           66.0           29.0      0.0  26.6   \n",
       "2          8.0    183.0           64.0            0.0      0.0  23.3   \n",
       "3          1.0     89.0           66.0           23.0     94.0  28.1   \n",
       "4          0.0    137.0           40.0           35.0    168.0  43.1   \n",
       "\n",
       "   DiabetesPedigreeFunction   Age  Outcome  \n",
       "0                  0.627000  50.0        1  \n",
       "1                  0.351000  31.0        0  \n",
       "2                  0.672000  32.0        1  \n",
       "3                  0.167000  21.0        0  \n",
       "4                  0.613165  33.0        1  "
      ]
     },
     "execution_count": 10,
     "metadata": {},
     "output_type": "execute_result"
    }
   ],
   "source": [
    "columns = df.columns[:-1]\n",
    "\n",
    "for col in columns:\n",
    "    if df[col].dtype in ['int64', 'float64']:\n",
    "        Q1 = df[col].quantile(0.25)\n",
    "        Q3 = df[col].quantile(0.75)\n",
    "        IQR = Q3 - Q1\n",
    "        lower_bound = Q1 - 1.5 * IQR\n",
    "        upper_bound = Q3 + 1.5 * IQR\n",
    "        \n",
    "        df.loc[(df[col] < lower_bound) | (df[col] > upper_bound), col] = np.nan\n",
    "\n",
    "imputer = KNNImputer(n_neighbors=5, weights='distance')  \n",
    "df[columns] = imputer.fit_transform(df[columns])\n",
    "\n",
    "df.head()"
   ]
  },
  {
   "cell_type": "code",
   "execution_count": 11,
   "metadata": {},
   "outputs": [
    {
     "data": {
      "text/plain": [
       "<Axes: >"
      ]
     },
     "execution_count": 11,
     "metadata": {},
     "output_type": "execute_result"
    },
    {
     "data": {
      "image/png": "[encoded data removed]",
      "text/plain": [
       "<Figure size 2000x1000 with 1 Axes>"
      ]
     },
     "metadata": {},
     "output_type": "display_data"
    }
   ],
   "source": [
    "df.boxplot(figsize=(20,10))"
   ]
  },
  {
   "cell_type": "markdown",
   "metadata": {},
   "source": [
    "### split : train , val , test"
   ]
  },
  {
   "cell_type": "code",
   "execution_count": 12,
   "metadata": {},
   "outputs": [],
   "source": [
    "x = df.drop([\"Outcome\", \"BloodPressure\", \"SkinThickness\"], axis=1)\n",
    "y = df['Outcome']"
   ]
  },
  {
   "cell_type": "code",
   "execution_count": 13,
   "metadata": {},
   "outputs": [
    {
     "name": "stdout",
     "output_type": "stream",
     "text": [
      "x_train shape: (460, 6)\n",
      "x_val shape: (154, 6)\n",
      "x_test shape: (154, 6)\n",
      "y_train shape: (460,)\n",
      "y_val shape: (154,)\n",
      "y_test shape: (154,)\n"
     ]
    }
   ],
   "source": [
    "x_train, x_temp, y_train, y_temp = train_test_split(x, y, test_size=0.4, random_state=42)\n",
    "x_val, x_test, y_val, y_test = train_test_split(x_temp, y_temp, test_size=0.5, random_state=42)\n",
    "\n",
    "print(\"x_train shape:\", x_train.shape)\n",
    "print(\"x_val shape:\", x_val.shape)\n",
    "print(\"x_test shape:\", x_test.shape)\n",
    "print(\"y_train shape:\", y_train.shape)\n",
    "print(\"y_val shape:\", y_val.shape)\n",
    "print(\"y_test shape:\", y_test.shape)"
   ]
  },
  {
   "cell_type": "markdown",
   "metadata": {},
   "source": [
    "### LogisticRegression without StandardScaler or sampling"
   ]
  },
  {
   "cell_type": "code",
   "execution_count": 14,
   "metadata": {},
   "outputs": [
    {
     "name": "stdout",
     "output_type": "stream",
     "text": [
      "acc_train: 0.7739130434782608\n",
      "Mean Absolute Error_train: 0.22608695652173913\n",
      "Mean Squared Error_train: 0.22608695652173913\n",
      "Root Mean Squared Error_train: 0.47548602137364576\n",
      "R2 Score_train: 0.019752479304975035\n",
      "classification_report_train:\n",
      "               precision    recall  f1-score   support\n",
      "\n",
      "           0       0.79      0.87      0.83       294\n",
      "           1       0.73      0.60      0.66       166\n",
      "\n",
      "    accuracy                           0.77       460\n",
      "   macro avg       0.76      0.74      0.74       460\n",
      "weighted avg       0.77      0.77      0.77       460\n",
      "\n",
      "**************************************************\n",
      "acc_val: 0.7662337662337663\n",
      "Mean Absolute Error_val: 0.23376623376623376\n",
      "Mean Squared Error_val: 0.23376623376623376\n",
      "Root Mean Squared Error_val: 0.48349377841522817\n",
      "R2 Score_val: -0.06615384615384601\n",
      "classification_report_train:\n",
      "               precision    recall  f1-score   support\n",
      "\n",
      "           0       0.83      0.83      0.83       104\n",
      "           1       0.64      0.64      0.64        50\n",
      "\n",
      "    accuracy                           0.77       154\n",
      "   macro avg       0.73      0.73      0.73       154\n",
      "weighted avg       0.77      0.77      0.77       154\n",
      "\n"
     ]
    }
   ],
   "source": [
    "log_model = LogisticRegression()\n",
    "\n",
    "log_model.fit(x_train, y_train)\n",
    "\n",
    "y_pred_train = log_model.predict(x_train)\n",
    "print('acc_train:',accuracy_score(y_train, y_pred_train))\n",
    "print('Mean Absolute Error_train:',mean_absolute_error(y_train, y_pred_train))\n",
    "print('Mean Squared Error_train:', mean_squared_error(y_train, y_pred_train))\n",
    "print('Root Mean Squared Error_train:', np.sqrt(mean_squared_error(y_train, y_pred_train)))\n",
    "print('R2 Score_train:', r2_score(y_train, y_pred_train))\n",
    "print('classification_report_train:\\n', classification_report(y_train, y_pred_train))\n",
    "\n",
    "print (\"*\"*50)\n",
    "\n",
    "y_pred_val = log_model.predict(x_val)\n",
    "print('acc_val:',accuracy_score(y_val, y_pred_val))\n",
    "print('Mean Absolute Error_val:',mean_absolute_error(y_val, y_pred_val))\n",
    "print('Mean Squared Error_val:', mean_squared_error(y_val, y_pred_val))\n",
    "print('Root Mean Squared Error_val:', np.sqrt(mean_squared_error(y_val, y_pred_val)))\n",
    "print('R2 Score_val:', r2_score(y_val, y_pred_val))\n",
    "print('classification_report_train:\\n', classification_report(y_val, y_pred_val))"
   ]
  },
  {
   "cell_type": "markdown",
   "metadata": {},
   "source": [
    "### RandomForestClassifier without StandardScaler or sampling"
   ]
  },
  {
   "cell_type": "code",
   "execution_count": 15,
   "metadata": {},
   "outputs": [
    {
     "name": "stdout",
     "output_type": "stream",
     "text": [
      "acc_train: 1.0\n",
      "Mean Absolute Error_train: 0.0\n",
      "Mean Squared Error_train: 0.0\n",
      "Root Mean Squared Error_train: 0.0\n",
      "R2 Score_train: 1.0\n",
      "classification_report_train:\n",
      "               precision    recall  f1-score   support\n",
      "\n",
      "           0       1.00      1.00      1.00       294\n",
      "           1       1.00      1.00      1.00       166\n",
      "\n",
      "    accuracy                           1.00       460\n",
      "   macro avg       1.00      1.00      1.00       460\n",
      "weighted avg       1.00      1.00      1.00       460\n",
      "\n",
      "**************************************************\n",
      "acc_val: 0.7792207792207793\n",
      "Mean Absolute Error_val: 0.22077922077922077\n",
      "Mean Squared Error_val: 0.22077922077922077\n",
      "Root Mean Squared Error_val: 0.4698714938993648\n",
      "R2 Score_val: -0.00692307692307681\n",
      "classification_report_train:\n",
      "               precision    recall  f1-score   support\n",
      "\n",
      "           0       0.84      0.84      0.84       104\n",
      "           1       0.66      0.66      0.66        50\n",
      "\n",
      "    accuracy                           0.78       154\n",
      "   macro avg       0.75      0.75      0.75       154\n",
      "weighted avg       0.78      0.78      0.78       154\n",
      "\n"
     ]
    }
   ],
   "source": [
    "random_forest_model = RandomForestClassifier()\n",
    "\n",
    "random_forest_model.fit(x_train, y_train)\n",
    "\n",
    "y_pred_train = random_forest_model.predict(x_train)\n",
    "\n",
    "print('acc_train:',accuracy_score(y_train, y_pred_train))\n",
    "print('Mean Absolute Error_train:',mean_absolute_error(y_train, y_pred_train))\n",
    "print('Mean Squared Error_train:', mean_squared_error(y_train, y_pred_train))\n",
    "print('Root Mean Squared Error_train:', np.sqrt(mean_squared_error(y_train, y_pred_train)))\n",
    "print('R2 Score_train:', r2_score(y_train, y_pred_train))\n",
    "print('classification_report_train:\\n', classification_report(y_train, y_pred_train))\n",
    "\n",
    "print (\"*\"*50)\n",
    "\n",
    "y_pred_val = random_forest_model.predict(x_val)\n",
    "\n",
    "print('acc_val:',accuracy_score(y_val, y_pred_val))\n",
    "print('Mean Absolute Error_val:',mean_absolute_error(y_val, y_pred_val))\n",
    "print('Mean Squared Error_val:', mean_squared_error(y_val, y_pred_val))\n",
    "print('Root Mean Squared Error_val:', np.sqrt(mean_squared_error(y_val, y_pred_val)))\n",
    "print('R2 Score_val:', r2_score(y_val, y_pred_val))\n",
    "print('classification_report_train:\\n', classification_report(y_val, y_pred_val))"
   ]
  },
  {
   "cell_type": "code",
   "execution_count": 16,
   "metadata": {},
   "outputs": [
    {
     "name": "stdout",
     "output_type": "stream",
     "text": [
      "Fitting 5 folds for each of 648 candidates, totalling 3240 fits\n"
     ]
    },
    {
     "name": "stderr",
     "output_type": "stream",
     "text": [
      "c:\\Users\\Legion\\anaconda3\\envs\\aly_env\\lib\\site-packages\\sklearn\\model_selection\\_validation.py:425: FitFailedWarning: \n",
      "1080 fits failed out of a total of 3240.\n",
      "The score on these train-test partitions for these parameters will be set to nan.\n",
      "If these failures are not expected, you can try to debug them by setting error_score='raise'.\n",
      "\n",
      "Below are more details about the failures:\n",
      "--------------------------------------------------------------------------------\n",
      "1080 fits failed with the following error:\n",
      "Traceback (most recent call last):\n",
      "  File \"c:\\Users\\Legion\\anaconda3\\envs\\aly_env\\lib\\site-packages\\sklearn\\model_selection\\_validation.py\", line 729, in _fit_and_score\n",
      "    estimator.fit(X_train, y_train, **fit_params)\n",
      "  File \"c:\\Users\\Legion\\anaconda3\\envs\\aly_env\\lib\\site-packages\\sklearn\\base.py\", line 1145, in wrapper\n",
      "    estimator._validate_params()\n",
      "  File \"c:\\Users\\Legion\\anaconda3\\envs\\aly_env\\lib\\site-packages\\sklearn\\base.py\", line 638, in _validate_params\n",
      "    validate_parameter_constraints(\n",
      "  File \"c:\\Users\\Legion\\anaconda3\\envs\\aly_env\\lib\\site-packages\\sklearn\\utils\\_param_validation.py\", line 96, in validate_parameter_constraints\n",
      "    raise InvalidParameterError(\n",
      "sklearn.utils._param_validation.InvalidParameterError: The 'max_features' parameter of RandomForestClassifier must be an int in the range [1, inf), a float in the range (0.0, 1.0], a str among {'sqrt', 'log2'} or None. Got 'auto' instead.\n",
      "\n",
      "  warnings.warn(some_fits_failed_message, FitFailedWarning)\n",
      "c:\\Users\\Legion\\anaconda3\\envs\\aly_env\\lib\\site-packages\\sklearn\\model_selection\\_search.py:979: UserWarning: One or more of the test scores are non-finite: [       nan        nan        nan        nan        nan        nan\n",
      "        nan        nan        nan        nan        nan        nan\n",
      "        nan        nan        nan        nan        nan        nan\n",
      "        nan        nan        nan        nan        nan        nan\n",
      "        nan        nan        nan 0.74347826 0.74782609 0.75869565\n",
      " 0.74347826 0.75217391 0.75869565 0.76304348 0.76956522 0.76086957\n",
      " 0.75434783 0.76086957 0.76304348 0.75       0.74565217 0.76086957\n",
      " 0.76304348 0.76304348 0.76956522 0.75       0.75652174 0.75869565\n",
      " 0.75       0.75652174 0.75869565 0.75       0.74130435 0.74782609\n",
      " 0.74347826 0.74782609 0.75869565 0.74347826 0.75217391 0.75869565\n",
      " 0.76304348 0.76956522 0.76086957 0.75434783 0.76086957 0.76304348\n",
      " 0.75       0.74565217 0.76086957 0.76304348 0.76304348 0.76956522\n",
      " 0.75       0.75652174 0.75869565 0.75       0.75652174 0.75869565\n",
      " 0.75       0.74130435 0.74782609        nan        nan        nan\n",
      "        nan        nan        nan        nan        nan        nan\n",
      "        nan        nan        nan        nan        nan        nan\n",
      "        nan        nan        nan        nan        nan        nan\n",
      "        nan        nan        nan        nan        nan        nan\n",
      " 0.74565217 0.75217391 0.75217391 0.75217391 0.75217391 0.76304348\n",
      " 0.78043478 0.76304348 0.76086957 0.75       0.76086957 0.76304348\n",
      " 0.75217391 0.75217391 0.75869565 0.75652174 0.75652174 0.76521739\n",
      " 0.75       0.75652174 0.75869565 0.75       0.75652174 0.75869565\n",
      " 0.74565217 0.73913043 0.74782609 0.74565217 0.75217391 0.75217391\n",
      " 0.75217391 0.75217391 0.76304348 0.78043478 0.76304348 0.76086957\n",
      " 0.75       0.76086957 0.76304348 0.75217391 0.75217391 0.75869565\n",
      " 0.75652174 0.75652174 0.76521739 0.75       0.75652174 0.75869565\n",
      " 0.75       0.75652174 0.75869565 0.74565217 0.73913043 0.74782609\n",
      "        nan        nan        nan        nan        nan        nan\n",
      "        nan        nan        nan        nan        nan        nan\n",
      "        nan        nan        nan        nan        nan        nan\n",
      "        nan        nan        nan        nan        nan        nan\n",
      "        nan        nan        nan 0.74347826 0.74782609 0.75869565\n",
      " 0.74347826 0.75217391 0.75869565 0.76304348 0.76956522 0.76086957\n",
      " 0.75434783 0.76086957 0.76304348 0.75       0.74565217 0.76086957\n",
      " 0.76304348 0.76304348 0.76956522 0.75       0.75652174 0.75869565\n",
      " 0.75       0.75652174 0.75869565 0.75       0.74130435 0.74782609\n",
      " 0.74347826 0.74782609 0.75869565 0.74347826 0.75217391 0.75869565\n",
      " 0.76304348 0.76956522 0.76086957 0.75434783 0.76086957 0.76304348\n",
      " 0.75       0.74565217 0.76086957 0.76304348 0.76304348 0.76956522\n",
      " 0.75       0.75652174 0.75869565 0.75       0.75652174 0.75869565\n",
      " 0.75       0.74130435 0.74782609        nan        nan        nan\n",
      "        nan        nan        nan        nan        nan        nan\n",
      "        nan        nan        nan        nan        nan        nan\n",
      "        nan        nan        nan        nan        nan        nan\n",
      "        nan        nan        nan        nan        nan        nan\n",
      " 0.74347826 0.74782609 0.75869565 0.74347826 0.75217391 0.75869565\n",
      " 0.76304348 0.76956522 0.76086957 0.75434783 0.76086957 0.76304348\n",
      " 0.75       0.74565217 0.76086957 0.76304348 0.76304348 0.76956522\n",
      " 0.75       0.75652174 0.75869565 0.75       0.75652174 0.75869565\n",
      " 0.75       0.74130435 0.74782609 0.74347826 0.74782609 0.75869565\n",
      " 0.74347826 0.75217391 0.75869565 0.76304348 0.76956522 0.76086957\n",
      " 0.75434783 0.76086957 0.76304348 0.75       0.74565217 0.76086957\n",
      " 0.76304348 0.76304348 0.76956522 0.75       0.75652174 0.75869565\n",
      " 0.75       0.75652174 0.75869565 0.75       0.74130435 0.74782609\n",
      "        nan        nan        nan        nan        nan        nan\n",
      "        nan        nan        nan        nan        nan        nan\n",
      "        nan        nan        nan        nan        nan        nan\n",
      "        nan        nan        nan        nan        nan        nan\n",
      "        nan        nan        nan 0.73043478 0.74347826 0.75217391\n",
      " 0.75217391 0.7326087  0.73695652 0.74347826 0.75434783 0.74782609\n",
      " 0.74565217 0.74565217 0.74782609 0.75217391 0.75869565 0.75217391\n",
      " 0.75217391 0.76086957 0.75869565 0.76086957 0.75869565 0.75652174\n",
      " 0.76086957 0.75869565 0.75652174 0.74347826 0.74782609 0.75217391\n",
      " 0.73043478 0.74347826 0.75217391 0.75217391 0.7326087  0.73695652\n",
      " 0.74347826 0.75434783 0.74782609 0.74565217 0.74565217 0.74782609\n",
      " 0.75217391 0.75869565 0.75217391 0.75217391 0.76086957 0.75869565\n",
      " 0.76086957 0.75869565 0.75652174 0.76086957 0.75869565 0.75652174\n",
      " 0.74347826 0.74782609 0.75217391        nan        nan        nan\n",
      "        nan        nan        nan        nan        nan        nan\n",
      "        nan        nan        nan        nan        nan        nan\n",
      "        nan        nan        nan        nan        nan        nan\n",
      "        nan        nan        nan        nan        nan        nan\n",
      " 0.73478261 0.74565217 0.75217391 0.73913043 0.74130435 0.74782609\n",
      " 0.75217391 0.75434783 0.75869565 0.75       0.74565217 0.75\n",
      " 0.75869565 0.75217391 0.75434783 0.75434783 0.76086957 0.76086957\n",
      " 0.76086957 0.76304348 0.75       0.76086957 0.76304348 0.75\n",
      " 0.74347826 0.75652174 0.74565217 0.73478261 0.74565217 0.75217391\n",
      " 0.73913043 0.74130435 0.74782609 0.75217391 0.75434783 0.75869565\n",
      " 0.75       0.74565217 0.75       0.75869565 0.75217391 0.75434783\n",
      " 0.75434783 0.76086957 0.76086957 0.76086957 0.76304348 0.75\n",
      " 0.76086957 0.76304348 0.75       0.74347826 0.75652174 0.74565217\n",
      "        nan        nan        nan        nan        nan        nan\n",
      "        nan        nan        nan        nan        nan        nan\n",
      "        nan        nan        nan        nan        nan        nan\n",
      "        nan        nan        nan        nan        nan        nan\n",
      "        nan        nan        nan 0.73043478 0.74565217 0.75217391\n",
      " 0.75217391 0.7326087  0.73695652 0.74347826 0.75434783 0.74782609\n",
      " 0.74565217 0.74347826 0.74565217 0.75217391 0.75652174 0.75217391\n",
      " 0.75217391 0.76086957 0.75869565 0.76086957 0.75869565 0.75652174\n",
      " 0.76086957 0.75869565 0.75652174 0.74347826 0.74782609 0.75217391\n",
      " 0.73043478 0.74565217 0.75217391 0.75217391 0.7326087  0.73695652\n",
      " 0.74347826 0.75434783 0.74782609 0.74565217 0.74347826 0.74565217\n",
      " 0.75217391 0.75652174 0.75217391 0.75217391 0.76086957 0.75869565\n",
      " 0.76086957 0.75869565 0.75652174 0.76086957 0.75869565 0.75652174\n",
      " 0.74347826 0.74782609 0.75217391        nan        nan        nan\n",
      "        nan        nan        nan        nan        nan        nan\n",
      "        nan        nan        nan        nan        nan        nan\n",
      "        nan        nan        nan        nan        nan        nan\n",
      "        nan        nan        nan        nan        nan        nan\n",
      " 0.73043478 0.74347826 0.75217391 0.75217391 0.7326087  0.73695652\n",
      " 0.74347826 0.75434783 0.74782609 0.74565217 0.74565217 0.74782609\n",
      " 0.75217391 0.75869565 0.75217391 0.75217391 0.76086957 0.75869565\n",
      " 0.76086957 0.75869565 0.75652174 0.76086957 0.75869565 0.75652174\n",
      " 0.74347826 0.74782609 0.75217391 0.73043478 0.74347826 0.75217391\n",
      " 0.75217391 0.7326087  0.73695652 0.74347826 0.75434783 0.74782609\n",
      " 0.74565217 0.74565217 0.74782609 0.75217391 0.75869565 0.75217391\n",
      " 0.75217391 0.76086957 0.75869565 0.76086957 0.75869565 0.75652174\n",
      " 0.76086957 0.75869565 0.75652174 0.74347826 0.74782609 0.75217391]\n",
      "  warnings.warn(\n"
     ]
    },
    {
     "name": "stdout",
     "output_type": "stream",
     "text": [
      "Best Parameters: {'bootstrap': True, 'max_depth': 10, 'max_features': 'sqrt', 'min_samples_leaf': 1, 'min_samples_split': 10, 'n_estimators': 50}\n",
      "acc_train: 0.9239130434782609\n",
      "Mean Absolute Error_train: 0.07608695652173914\n",
      "Mean Squared Error_train: 0.07608695652173914\n",
      "Root Mean Squared Error_train: 0.27583864218368526\n",
      "R2 Score_train: 0.6701090074584051\n",
      "classification_report_train:\n",
      "               precision    recall  f1-score   support\n",
      "\n",
      "           0       0.92      0.97      0.94       294\n",
      "           1       0.93      0.85      0.89       166\n",
      "\n",
      "    accuracy                           0.92       460\n",
      "   macro avg       0.93      0.91      0.92       460\n",
      "weighted avg       0.92      0.92      0.92       460\n",
      "\n",
      "**************************************************\n",
      "acc_val: 0.7987012987012987\n",
      "Mean Absolute Error_val: 0.2012987012987013\n",
      "Mean Squared Error_val: 0.2012987012987013\n",
      "Root Mean Squared Error_val: 0.44866323818505716\n",
      "R2 Score_val: 0.08192307692307699\n",
      "classification_report_val:\n",
      "               precision    recall  f1-score   support\n",
      "\n",
      "           0       0.86      0.84      0.85       104\n",
      "           1       0.68      0.72      0.70        50\n",
      "\n",
      "    accuracy                           0.80       154\n",
      "   macro avg       0.77      0.78      0.77       154\n",
      "weighted avg       0.80      0.80      0.80       154\n",
      "\n"
     ]
    }
   ],
   "source": [
    "param_grid = {\n",
    "    'n_estimators': [50, 100, 200],\n",
    "    'max_depth': [None, 10, 20, 30],\n",
    "    'min_samples_split': [2, 5, 10],\n",
    "    'min_samples_leaf': [1, 2, 4],\n",
    "    'max_features': ['auto', 'sqrt', 'log2'],\n",
    "    'bootstrap': [True, False]\n",
    "}\n",
    "\n",
    "grid_search = GridSearchCV(estimator=RandomForestClassifier(random_state=42), param_grid=param_grid, cv=5, verbose=1)\n",
    "\n",
    "grid_search.fit(x_train, y_train)\n",
    "\n",
    "print(\"Best Parameters:\", grid_search.best_params_)\n",
    "\n",
    "y_pred_train = grid_search.predict(x_train)\n",
    "print('acc_train:', accuracy_score(y_train, y_pred_train))\n",
    "print('Mean Absolute Error_train:', mean_absolute_error(y_train, y_pred_train))\n",
    "print('Mean Squared Error_train:', mean_squared_error(y_train, y_pred_train))\n",
    "print('Root Mean Squared Error_train:', np.sqrt(mean_squared_error(y_train, y_pred_train)))\n",
    "print('R2 Score_train:', r2_score(y_train, y_pred_train))\n",
    "print('classification_report_train:\\n', classification_report(y_train, y_pred_train))\n",
    "\n",
    "print(\"*\" * 50)\n",
    "\n",
    "y_pred_val = grid_search.predict(x_val)\n",
    "print('acc_val:', accuracy_score(y_val, y_pred_val))\n",
    "print('Mean Absolute Error_val:', mean_absolute_error(y_val, y_pred_val))\n",
    "print('Mean Squared Error_val:', mean_squared_error(y_val, y_pred_val))\n",
    "print('Root Mean Squared Error_val:', np.sqrt(mean_squared_error(y_val, y_pred_val)))\n",
    "print('R2 Score_val:', r2_score(y_val, y_pred_val))\n",
    "print('classification_report_val:\\n', classification_report(y_val, y_pred_val))\n"
   ]
  },
  {
   "cell_type": "markdown",
   "metadata": {},
   "source": [
    "### DecisionTreeClassifier without StandardScaler or sampling"
   ]
  },
  {
   "cell_type": "code",
   "execution_count": 17,
   "metadata": {},
   "outputs": [
    {
     "name": "stdout",
     "output_type": "stream",
     "text": [
      "acc_train: 1.0\n",
      "Mean Absolute Error_train: 0.0\n",
      "Mean Squared Error_train: 0.0\n",
      "Root Mean Squared Error_train: 0.0\n",
      "R2 Score_train: 1.0\n",
      "classification_report_train:\n",
      "               precision    recall  f1-score   support\n",
      "\n",
      "           0       1.00      1.00      1.00       294\n",
      "           1       1.00      1.00      1.00       166\n",
      "\n",
      "    accuracy                           1.00       460\n",
      "   macro avg       1.00      1.00      1.00       460\n",
      "weighted avg       1.00      1.00      1.00       460\n",
      "\n",
      "**************************************************\n",
      "acc_val: 0.6818181818181818\n",
      "Mean Absolute Error_val: 0.3181818181818182\n",
      "Mean Squared Error_val: 0.3181818181818182\n",
      "Root Mean Squared Error_val: 0.5640760748177662\n",
      "R2 Score_val: -0.451153846153846\n",
      "classification_report_train:\n",
      "               precision    recall  f1-score   support\n",
      "\n",
      "           0       0.79      0.72      0.75       104\n",
      "           1       0.51      0.60      0.55        50\n",
      "\n",
      "    accuracy                           0.68       154\n",
      "   macro avg       0.65      0.66      0.65       154\n",
      "weighted avg       0.70      0.68      0.69       154\n",
      "\n"
     ]
    }
   ],
   "source": [
    "Decision_Tree_model = DecisionTreeClassifier()\n",
    "\n",
    "Decision_Tree_model.fit(x_train, y_train)\n",
    "\n",
    "y_pred_train = Decision_Tree_model.predict(x_train)\n",
    "\n",
    "print('acc_train:',accuracy_score(y_train, y_pred_train))\n",
    "print('Mean Absolute Error_train:',mean_absolute_error(y_train, y_pred_train))\n",
    "print('Mean Squared Error_train:', mean_squared_error(y_train, y_pred_train))\n",
    "print('Root Mean Squared Error_train:', np.sqrt(mean_squared_error(y_train, y_pred_train)))\n",
    "print('R2 Score_train:', r2_score(y_train, y_pred_train))\n",
    "print('classification_report_train:\\n', classification_report(y_train, y_pred_train))\n",
    "\n",
    "print (\"*\"*50)\n",
    "\n",
    "y_pred_val = Decision_Tree_model.predict(x_val)\n",
    "\n",
    "print('acc_val:',accuracy_score(y_val, y_pred_val))\n",
    "print('Mean Absolute Error_val:',mean_absolute_error(y_val, y_pred_val))\n",
    "print('Mean Squared Error_val:', mean_squared_error(y_val, y_pred_val))\n",
    "print('Root Mean Squared Error_val:', np.sqrt(mean_squared_error(y_val, y_pred_val)))\n",
    "print('R2 Score_val:', r2_score(y_val, y_pred_val))\n",
    "print('classification_report_train:\\n', classification_report(y_val, y_pred_val))"
   ]
  },
  {
   "cell_type": "markdown",
   "metadata": {},
   "source": [
    "### xgboost without StandardScaler or sampling"
   ]
  },
  {
   "cell_type": "code",
   "execution_count": 18,
   "metadata": {},
   "outputs": [
    {
     "name": "stdout",
     "output_type": "stream",
     "text": [
      "acc_train: 1.0\n",
      "Mean Absolute Error_train: 0.0\n",
      "Mean Squared Error_train: 0.0\n",
      "Root Mean Squared Error_train: 0.0\n",
      "R2 Score_train: 1.0\n",
      "classification_report_train:\n",
      "               precision    recall  f1-score   support\n",
      "\n",
      "           0       1.00      1.00      1.00       294\n",
      "           1       1.00      1.00      1.00       166\n",
      "\n",
      "    accuracy                           1.00       460\n",
      "   macro avg       1.00      1.00      1.00       460\n",
      "weighted avg       1.00      1.00      1.00       460\n",
      "\n",
      "**************************************************\n",
      "acc_val: 0.7662337662337663\n",
      "Mean Absolute Error_val: 0.23376623376623376\n",
      "Mean Squared Error_val: 0.23376623376623376\n",
      "Root Mean Squared Error_val: 0.48349377841522817\n",
      "R2 Score_val: -0.06615384615384601\n",
      "classification_report_train:\n",
      "               precision    recall  f1-score   support\n",
      "\n",
      "           0       0.84      0.81      0.82       104\n",
      "           1       0.63      0.68      0.65        50\n",
      "\n",
      "    accuracy                           0.77       154\n",
      "   macro avg       0.73      0.74      0.74       154\n",
      "weighted avg       0.77      0.77      0.77       154\n",
      "\n"
     ]
    }
   ],
   "source": [
    "xgboost_model = xgb.XGBClassifier(random_state=42)\n",
    "\n",
    "xgboost_model.fit(x_train, y_train)\n",
    "\n",
    "y_pred_train = xgboost_model.predict(x_train)\n",
    "print('acc_train:',accuracy_score(y_train, y_pred_train))\n",
    "print('Mean Absolute Error_train:',mean_absolute_error(y_train, y_pred_train))\n",
    "print('Mean Squared Error_train:', mean_squared_error(y_train, y_pred_train))\n",
    "print('Root Mean Squared Error_train:', np.sqrt(mean_squared_error(y_train, y_pred_train)))\n",
    "print('R2 Score_train:', r2_score(y_train, y_pred_train))\n",
    "print('classification_report_train:\\n', classification_report(y_train, y_pred_train))\n",
    "\n",
    "print(\"*\" * 50)\n",
    "\n",
    "\n",
    "y_pred_val = xgboost_model.predict(x_val)\n",
    "print('acc_val:',accuracy_score(y_val, y_pred_val))\n",
    "print('Mean Absolute Error_val:',mean_absolute_error(y_val, y_pred_val))\n",
    "print('Mean Squared Error_val:', mean_squared_error(y_val, y_pred_val))\n",
    "print('Root Mean Squared Error_val:', np.sqrt(mean_squared_error(y_val, y_pred_val)))\n",
    "print('R2 Score_val:', r2_score(y_val, y_pred_val))\n",
    "print('classification_report_train:\\n', classification_report(y_val, y_pred_val))\n"
   ]
  },
  {
   "cell_type": "markdown",
   "metadata": {},
   "source": [
    "### Scaler"
   ]
  },
  {
   "cell_type": "code",
   "execution_count": 19,
   "metadata": {},
   "outputs": [],
   "source": [
    "Scaler = StandardScaler()\n",
    "\n",
    "x_train_scaled = Scaler.fit_transform(x_train)\n",
    "x_val_scaled = Scaler.transform(x_val)\n",
    "x_test_scaled = Scaler.transform(x_test)"
   ]
  },
  {
   "cell_type": "markdown",
   "metadata": {},
   "source": [
    "### LogisticRegression with StandardScaler "
   ]
  },
  {
   "cell_type": "code",
   "execution_count": 20,
   "metadata": {},
   "outputs": [
    {
     "name": "stdout",
     "output_type": "stream",
     "text": [
      "acc_train: 0.7695652173913043\n",
      "Mean Absolute Error_train: 0.23043478260869565\n",
      "Mean Squared Error_train: 0.23043478260869565\n",
      "Root Mean Squared Error_train: 0.48003623051671385\n",
      "R2 Score_train: 0.0009015654454553879\n",
      "classification_report_train:\n",
      "               precision    recall  f1-score   support\n",
      "\n",
      "           0       0.79      0.87      0.83       294\n",
      "           1       0.72      0.58      0.65       166\n",
      "\n",
      "    accuracy                           0.77       460\n",
      "   macro avg       0.76      0.73      0.74       460\n",
      "weighted avg       0.77      0.77      0.76       460\n",
      "\n",
      "**************************************************\n",
      "acc_val: 0.7662337662337663\n",
      "Mean Absolute Error_val: 0.23376623376623376\n",
      "Mean Squared Error_val: 0.23376623376623376\n",
      "Root Mean Squared Error_val: 0.48349377841522817\n",
      "R2 Score_val: -0.06615384615384601\n",
      "classification_report_train:\n",
      "               precision    recall  f1-score   support\n",
      "\n",
      "           0       0.83      0.82      0.83       104\n",
      "           1       0.63      0.66      0.65        50\n",
      "\n",
      "    accuracy                           0.77       154\n",
      "   macro avg       0.73      0.74      0.74       154\n",
      "weighted avg       0.77      0.77      0.77       154\n",
      "\n"
     ]
    }
   ],
   "source": [
    "log_model_scaled = LogisticRegression()\n",
    "\n",
    "log_model_scaled.fit(x_train_scaled, y_train)\n",
    "\n",
    "y_pred_train = log_model_scaled.predict(x_train_scaled)\n",
    "print('acc_train:',accuracy_score(y_train, y_pred_train))\n",
    "print('Mean Absolute Error_train:',mean_absolute_error(y_train, y_pred_train))\n",
    "print('Mean Squared Error_train:', mean_squared_error(y_train, y_pred_train))\n",
    "print('Root Mean Squared Error_train:', np.sqrt(mean_squared_error(y_train, y_pred_train)))\n",
    "print('R2 Score_train:', r2_score(y_train, y_pred_train))\n",
    "print('classification_report_train:\\n', classification_report(y_train, y_pred_train))\n",
    "\n",
    "print (\"*\"*50)\n",
    "\n",
    "y_pred_val = log_model_scaled.predict(x_val_scaled)\n",
    "print('acc_val:',accuracy_score(y_val, y_pred_val))\n",
    "print('Mean Absolute Error_val:',mean_absolute_error(y_val, y_pred_val))\n",
    "print('Mean Squared Error_val:', mean_squared_error(y_val, y_pred_val))\n",
    "print('Root Mean Squared Error_val:', np.sqrt(mean_squared_error(y_val, y_pred_val)))\n",
    "print('R2 Score_val:', r2_score(y_val, y_pred_val))\n",
    "print('classification_report_train:\\n', classification_report(y_val, y_pred_val))"
   ]
  },
  {
   "cell_type": "markdown",
   "metadata": {},
   "source": [
    "### RandomForestClassifier with StandardScaler "
   ]
  },
  {
   "cell_type": "code",
   "execution_count": 21,
   "metadata": {},
   "outputs": [
    {
     "name": "stdout",
     "output_type": "stream",
     "text": [
      "acc_train: 1.0\n",
      "Mean Absolute Error_train: 0.0\n",
      "Mean Squared Error_train: 0.0\n",
      "Root Mean Squared Error_train: 0.0\n",
      "R2 Score_train: 1.0\n",
      "classification_report_train:\n",
      "               precision    recall  f1-score   support\n",
      "\n",
      "           0       1.00      1.00      1.00       294\n",
      "           1       1.00      1.00      1.00       166\n",
      "\n",
      "    accuracy                           1.00       460\n",
      "   macro avg       1.00      1.00      1.00       460\n",
      "weighted avg       1.00      1.00      1.00       460\n",
      "\n",
      "**************************************************\n",
      "acc_val: 0.7922077922077922\n",
      "Mean Absolute Error_val: 0.2077922077922078\n",
      "Mean Squared Error_val: 0.2077922077922078\n",
      "Root Mean Squared Error_val: 0.4558423058385518\n",
      "R2 Score_val: 0.05230769230769239\n",
      "classification_report_train:\n",
      "               precision    recall  f1-score   support\n",
      "\n",
      "           0       0.86      0.83      0.84       104\n",
      "           1       0.67      0.72      0.69        50\n",
      "\n",
      "    accuracy                           0.79       154\n",
      "   macro avg       0.76      0.77      0.77       154\n",
      "weighted avg       0.80      0.79      0.79       154\n",
      "\n"
     ]
    }
   ],
   "source": [
    "Random_Forest_model_scaled = RandomForestClassifier()\n",
    "\n",
    "Random_Forest_model_scaled.fit(x_train_scaled, y_train)\n",
    "\n",
    "y_pred_train = Random_Forest_model_scaled.predict(x_train_scaled)\n",
    "print('acc_train:',accuracy_score(y_train, y_pred_train))\n",
    "print('Mean Absolute Error_train:',mean_absolute_error(y_train, y_pred_train))\n",
    "print('Mean Squared Error_train:', mean_squared_error(y_train, y_pred_train))\n",
    "print('Root Mean Squared Error_train:', np.sqrt(mean_squared_error(y_train, y_pred_train)))\n",
    "print('R2 Score_train:', r2_score(y_train, y_pred_train))\n",
    "print('classification_report_train:\\n', classification_report(y_train, y_pred_train))\n",
    "\n",
    "print (\"*\"*50)\n",
    "\n",
    "y_pred_val = Random_Forest_model_scaled.predict(x_val_scaled)\n",
    "print('acc_val:',accuracy_score(y_val, y_pred_val))\n",
    "print('Mean Absolute Error_val:',mean_absolute_error(y_val, y_pred_val))\n",
    "print('Mean Squared Error_val:', mean_squared_error(y_val, y_pred_val))\n",
    "print('Root Mean Squared Error_val:', np.sqrt(mean_squared_error(y_val, y_pred_val)))\n",
    "print('R2 Score_val:', r2_score(y_val, y_pred_val))\n",
    "print('classification_report_train:\\n', classification_report(y_val, y_pred_val))"
   ]
  },
  {
   "cell_type": "markdown",
   "metadata": {},
   "source": [
    "###  DecisionTreeClassifier with StandardScaler "
   ]
  },
  {
   "cell_type": "code",
   "execution_count": 22,
   "metadata": {},
   "outputs": [
    {
     "name": "stdout",
     "output_type": "stream",
     "text": [
      "acc_train: 1.0\n",
      "Mean Absolute Error_train: 0.0\n",
      "Mean Squared Error_train: 0.0\n",
      "Root Mean Squared Error_train: 0.0\n",
      "R2 Score_train: 1.0\n",
      "classification_report_train:\n",
      "               precision    recall  f1-score   support\n",
      "\n",
      "           0       1.00      1.00      1.00       294\n",
      "           1       1.00      1.00      1.00       166\n",
      "\n",
      "    accuracy                           1.00       460\n",
      "   macro avg       1.00      1.00      1.00       460\n",
      "weighted avg       1.00      1.00      1.00       460\n",
      "\n",
      "**************************************************\n",
      "acc_val: 0.6818181818181818\n",
      "Mean Absolute Error_val: 0.3181818181818182\n",
      "Mean Squared Error_val: 0.3181818181818182\n",
      "Root Mean Squared Error_val: 0.5640760748177662\n",
      "R2 Score_val: -0.451153846153846\n",
      "classification_report_train:\n",
      "               precision    recall  f1-score   support\n",
      "\n",
      "           0       0.81      0.69      0.75       104\n",
      "           1       0.51      0.66      0.57        50\n",
      "\n",
      "    accuracy                           0.68       154\n",
      "   macro avg       0.66      0.68      0.66       154\n",
      "weighted avg       0.71      0.68      0.69       154\n",
      "\n"
     ]
    }
   ],
   "source": [
    "Decision_Tree_model_scaled = DecisionTreeClassifier()\n",
    "\n",
    "\n",
    "Decision_Tree_model_scaled.fit(x_train_scaled, y_train)\n",
    "\n",
    "y_pred_train = Decision_Tree_model_scaled.predict(x_train_scaled)\n",
    "print('acc_train:',accuracy_score(y_train, y_pred_train))\n",
    "print('Mean Absolute Error_train:',mean_absolute_error(y_train, y_pred_train))\n",
    "print('Mean Squared Error_train:', mean_squared_error(y_train, y_pred_train))\n",
    "print('Root Mean Squared Error_train:', np.sqrt(mean_squared_error(y_train, y_pred_train)))\n",
    "print('R2 Score_train:', r2_score(y_train, y_pred_train))\n",
    "print('classification_report_train:\\n', classification_report(y_train, y_pred_train))\n",
    "\n",
    "print (\"*\"*50)\n",
    "\n",
    "y_pred_val = Decision_Tree_model_scaled.predict(x_val_scaled)\n",
    "print('acc_val:',accuracy_score(y_val, y_pred_val))\n",
    "print('Mean Absolute Error_val:',mean_absolute_error(y_val, y_pred_val))\n",
    "print('Mean Squared Error_val:', mean_squared_error(y_val, y_pred_val))\n",
    "print('Root Mean Squared Error_val:', np.sqrt(mean_squared_error(y_val, y_pred_val)))\n",
    "print('R2 Score_val:', r2_score(y_val, y_pred_val))\n",
    "print('classification_report_train:\\n', classification_report(y_val, y_pred_val))"
   ]
  },
  {
   "cell_type": "markdown",
   "metadata": {},
   "source": [
    "### xgboost with StandardScaler "
   ]
  },
  {
   "cell_type": "code",
   "execution_count": 23,
   "metadata": {},
   "outputs": [
    {
     "name": "stdout",
     "output_type": "stream",
     "text": [
      "acc_train: 1.0\n",
      "Mean Absolute Error_train: 0.0\n",
      "Mean Squared Error_train: 0.0\n",
      "Root Mean Squared Error_train: 0.0\n",
      "R2 Score_train: 1.0\n",
      "classification_report_train:\n",
      "               precision    recall  f1-score   support\n",
      "\n",
      "           0       1.00      1.00      1.00       294\n",
      "           1       1.00      1.00      1.00       166\n",
      "\n",
      "    accuracy                           1.00       460\n",
      "   macro avg       1.00      1.00      1.00       460\n",
      "weighted avg       1.00      1.00      1.00       460\n",
      "\n",
      "**************************************************\n",
      "acc_val: 0.7662337662337663\n",
      "Mean Absolute Error_val: 0.23376623376623376\n",
      "Mean Squared Error_val: 0.23376623376623376\n",
      "Root Mean Squared Error_val: 0.48349377841522817\n",
      "R2 Score_val: -0.06615384615384601\n",
      "classification_report_train:\n",
      "               precision    recall  f1-score   support\n",
      "\n",
      "           0       0.84      0.81      0.82       104\n",
      "           1       0.63      0.68      0.65        50\n",
      "\n",
      "    accuracy                           0.77       154\n",
      "   macro avg       0.73      0.74      0.74       154\n",
      "weighted avg       0.77      0.77      0.77       154\n",
      "\n"
     ]
    }
   ],
   "source": [
    "xgboost_model_scaled = xgb.XGBClassifier(random_state=42)\n",
    "\n",
    "\n",
    "xgboost_model_scaled.fit(x_train_scaled, y_train)\n",
    "\n",
    "y_pred_train = xgboost_model_scaled.predict(x_train_scaled)\n",
    "print('acc_train:',accuracy_score(y_train, y_pred_train))\n",
    "print('Mean Absolute Error_train:',mean_absolute_error(y_train, y_pred_train))\n",
    "print('Mean Squared Error_train:', mean_squared_error(y_train, y_pred_train))\n",
    "print('Root Mean Squared Error_train:', np.sqrt(mean_squared_error(y_train, y_pred_train)))\n",
    "print('R2 Score_train:', r2_score(y_train, y_pred_train))\n",
    "print('classification_report_train:\\n', classification_report(y_train, y_pred_train))\n",
    "\n",
    "print (\"*\"*50)\n",
    "\n",
    "y_pred_val = xgboost_model_scaled.predict(x_val_scaled)\n",
    "print('acc_val:',accuracy_score(y_val, y_pred_val))\n",
    "print('Mean Absolute Error_val:',mean_absolute_error(y_val, y_pred_val))\n",
    "print('Mean Squared Error_val:', mean_squared_error(y_val, y_pred_val))\n",
    "print('Root Mean Squared Error_val:', np.sqrt(mean_squared_error(y_val, y_pred_val)))\n",
    "print('R2 Score_val:', r2_score(y_val, y_pred_val))\n",
    "print('classification_report_train:\\n', classification_report(y_val, y_pred_val))"
   ]
  },
  {
   "cell_type": "markdown",
   "metadata": {},
   "source": [
    "### under sampling"
   ]
  },
  {
   "cell_type": "code",
   "execution_count": 24,
   "metadata": {},
   "outputs": [
    {
     "name": "stdout",
     "output_type": "stream",
     "text": [
      "(536, 6)\n",
      "Outcome\n",
      "0    268\n",
      "1    268\n",
      "Name: count, dtype: int64\n"
     ]
    }
   ],
   "source": [
    "# under sampling\n",
    "from imblearn.under_sampling import RandomUnderSampler\n",
    "\n",
    "rus = RandomUnderSampler(random_state=0)\n",
    "\n",
    "X_under,y_under = rus.fit_resample(x,y)\n",
    "print(X_under.shape)\n",
    "print(y_under.value_counts())\n"
   ]
  },
  {
   "cell_type": "code",
   "execution_count": 25,
   "metadata": {},
   "outputs": [],
   "source": [
    "x_train, x_temp, y_train, y_temp = train_test_split(X_under, y_under, test_size=0.2, random_state=42)\n",
    "x_val, x_test, y_val, y_test = train_test_split(x_temp, y_temp, test_size=0.5, random_state=42)"
   ]
  },
  {
   "cell_type": "markdown",
   "metadata": {},
   "source": [
    "### LogisticRegression with under sampling"
   ]
  },
  {
   "cell_type": "code",
   "execution_count": 26,
   "metadata": {},
   "outputs": [
    {
     "name": "stdout",
     "output_type": "stream",
     "text": [
      "acc_train: 0.7289719626168224\n",
      "Mean Absolute Error_train: 0.27102803738317754\n",
      "Mean Squared Error_train: 0.27102803738317754\n",
      "Root Mean Squared Error_train: 0.5206035318581478\n",
      "R2 Score_train: -0.08470428874177949\n"
     ]
    },
    {
     "name": "stdout",
     "output_type": "stream",
     "text": [
      "classification_report_train:\n",
      "               precision    recall  f1-score   support\n",
      "\n",
      "           0       0.71      0.75      0.73       209\n",
      "           1       0.75      0.71      0.73       219\n",
      "\n",
      "    accuracy                           0.73       428\n",
      "   macro avg       0.73      0.73      0.73       428\n",
      "weighted avg       0.73      0.73      0.73       428\n",
      "\n",
      "**************************************************\n",
      "acc_val: 0.7222222222222222\n",
      "Mean Absolute Error_val: 0.2777777777777778\n",
      "Mean Squared Error_val: 0.2777777777777778\n",
      "Root Mean Squared Error_val: 0.5270462766947299\n",
      "R2 Score_val: -0.1505681818181821\n",
      "classification_report_train:\n",
      "               precision    recall  f1-score   support\n",
      "\n",
      "           0       0.74      0.81      0.78        32\n",
      "           1       0.68      0.59      0.63        22\n",
      "\n",
      "    accuracy                           0.72        54\n",
      "   macro avg       0.71      0.70      0.71        54\n",
      "weighted avg       0.72      0.72      0.72        54\n",
      "\n"
     ]
    }
   ],
   "source": [
    "log_model_under_sampling = LogisticRegression()\n",
    "\n",
    "log_model_under_sampling.fit(x_train, y_train)\n",
    "\n",
    "y_pred_train = log_model_under_sampling.predict(x_train)\n",
    "print('acc_train:',accuracy_score(y_train, y_pred_train))\n",
    "print('Mean Absolute Error_train:',mean_absolute_error(y_train, y_pred_train))\n",
    "print('Mean Squared Error_train:', mean_squared_error(y_train, y_pred_train))\n",
    "print('Root Mean Squared Error_train:', np.sqrt(mean_squared_error(y_train, y_pred_train)))\n",
    "print('R2 Score_train:', r2_score(y_train, y_pred_train))\n",
    "print('classification_report_train:\\n', classification_report(y_train, y_pred_train))\n",
    "\n",
    "print (\"*\"*50)\n",
    "\n",
    "y_pred_val = log_model_under_sampling.predict(x_val)\n",
    "print('acc_val:',accuracy_score(y_val, y_pred_val))\n",
    "print('Mean Absolute Error_val:',mean_absolute_error(y_val, y_pred_val))\n",
    "print('Mean Squared Error_val:', mean_squared_error(y_val, y_pred_val))\n",
    "print('Root Mean Squared Error_val:', np.sqrt(mean_squared_error(y_val, y_pred_val)))\n",
    "print('R2 Score_val:', r2_score(y_val, y_pred_val))\n",
    "print('classification_report_train:\\n', classification_report(y_val, y_pred_val))"
   ]
  },
  {
   "cell_type": "markdown",
   "metadata": {},
   "source": [
    "### RandomForestClassifier with under sampling"
   ]
  },
  {
   "cell_type": "code",
   "execution_count": 27,
   "metadata": {},
   "outputs": [
    {
     "name": "stdout",
     "output_type": "stream",
     "text": [
      "acc_train: 1.0\n",
      "Mean Absolute Error_train: 0.0\n",
      "Mean Squared Error_train: 0.0\n",
      "Root Mean Squared Error_train: 0.0\n",
      "R2 Score_train: 1.0\n",
      "classification_report_train:\n",
      "               precision    recall  f1-score   support\n",
      "\n",
      "           0       1.00      1.00      1.00       209\n",
      "           1       1.00      1.00      1.00       219\n",
      "\n",
      "    accuracy                           1.00       428\n",
      "   macro avg       1.00      1.00      1.00       428\n",
      "weighted avg       1.00      1.00      1.00       428\n",
      "\n",
      "**************************************************\n",
      "acc_val: 0.7037037037037037\n",
      "Mean Absolute Error_val: 0.2962962962962963\n",
      "Mean Squared Error_val: 0.2962962962962963\n",
      "Root Mean Squared Error_val: 0.5443310539518174\n",
      "R2 Score_val: -0.22727272727272751\n",
      "classification_report_train:\n",
      "               precision    recall  f1-score   support\n",
      "\n",
      "           0       0.75      0.75      0.75        32\n",
      "           1       0.64      0.64      0.64        22\n",
      "\n",
      "    accuracy                           0.70        54\n",
      "   macro avg       0.69      0.69      0.69        54\n",
      "weighted avg       0.70      0.70      0.70        54\n",
      "\n"
     ]
    }
   ],
   "source": [
    "Random_Forest_model_under_sampling = RandomForestClassifier()\n",
    "\n",
    "Random_Forest_model_under_sampling.fit(x_train, y_train)\n",
    "\n",
    "y_pred_train = Random_Forest_model_under_sampling.predict(x_train)\n",
    "print('acc_train:',accuracy_score(y_train, y_pred_train))\n",
    "print('Mean Absolute Error_train:',mean_absolute_error(y_train, y_pred_train))\n",
    "print('Mean Squared Error_train:', mean_squared_error(y_train, y_pred_train))\n",
    "print('Root Mean Squared Error_train:', np.sqrt(mean_squared_error(y_train, y_pred_train)))\n",
    "print('R2 Score_train:', r2_score(y_train, y_pred_train))\n",
    "print('classification_report_train:\\n', classification_report(y_train, y_pred_train))\n",
    "\n",
    "print (\"*\"*50)\n",
    "\n",
    "y_pred_val = Random_Forest_model_under_sampling.predict(x_val)\n",
    "print('acc_val:',accuracy_score(y_val, y_pred_val))\n",
    "print('Mean Absolute Error_val:',mean_absolute_error(y_val, y_pred_val))\n",
    "print('Mean Squared Error_val:', mean_squared_error(y_val, y_pred_val))\n",
    "print('Root Mean Squared Error_val:', np.sqrt(mean_squared_error(y_val, y_pred_val)))\n",
    "print('R2 Score_val:', r2_score(y_val, y_pred_val))\n",
    "print('classification_report_train:\\n', classification_report(y_val, y_pred_val))"
   ]
  },
  {
   "cell_type": "markdown",
   "metadata": {},
   "source": [
    "### DecisionTreeClassifier with under sampling"
   ]
  },
  {
   "cell_type": "code",
   "execution_count": 28,
   "metadata": {},
   "outputs": [
    {
     "name": "stdout",
     "output_type": "stream",
     "text": [
      "acc_train: 1.0\n",
      "Mean Absolute Error_train: 0.0\n",
      "Mean Squared Error_train: 0.0\n",
      "Root Mean Squared Error_train: 0.0\n",
      "R2 Score_train: 1.0\n",
      "classification_report_train:\n",
      "               precision    recall  f1-score   support\n",
      "\n",
      "           0       1.00      1.00      1.00       209\n",
      "           1       1.00      1.00      1.00       219\n",
      "\n",
      "    accuracy                           1.00       428\n",
      "   macro avg       1.00      1.00      1.00       428\n",
      "weighted avg       1.00      1.00      1.00       428\n",
      "\n",
      "**************************************************\n",
      "acc_val: 0.6296296296296297\n",
      "Mean Absolute Error_val: 0.37037037037037035\n",
      "Mean Squared Error_val: 0.37037037037037035\n",
      "Root Mean Squared Error_val: 0.6085806194501846\n",
      "R2 Score_val: -0.5340909090909094\n",
      "classification_report_train:\n",
      "               precision    recall  f1-score   support\n",
      "\n",
      "           0       0.69      0.69      0.69        32\n",
      "           1       0.55      0.55      0.55        22\n",
      "\n",
      "    accuracy                           0.63        54\n",
      "   macro avg       0.62      0.62      0.62        54\n",
      "weighted avg       0.63      0.63      0.63        54\n",
      "\n"
     ]
    }
   ],
   "source": [
    "Decision_Tree_model_under_sampling = DecisionTreeClassifier()\n",
    "\n",
    "Decision_Tree_model_under_sampling.fit(x_train, y_train)\n",
    "\n",
    "y_pred_train = Decision_Tree_model_under_sampling.predict(x_train)\n",
    "print('acc_train:',accuracy_score(y_train, y_pred_train))\n",
    "print('Mean Absolute Error_train:',mean_absolute_error(y_train, y_pred_train))\n",
    "print('Mean Squared Error_train:', mean_squared_error(y_train, y_pred_train))\n",
    "print('Root Mean Squared Error_train:', np.sqrt(mean_squared_error(y_train, y_pred_train)))\n",
    "print('R2 Score_train:', r2_score(y_train, y_pred_train))\n",
    "print('classification_report_train:\\n', classification_report(y_train, y_pred_train))\n",
    "\n",
    "print (\"*\"*50)\n",
    "\n",
    "y_pred_val = Decision_Tree_model_under_sampling.predict(x_val)\n",
    "print('acc_val:',accuracy_score(y_val, y_pred_val))\n",
    "print('Mean Absolute Error_val:',mean_absolute_error(y_val, y_pred_val))\n",
    "print('Mean Squared Error_val:', mean_squared_error(y_val, y_pred_val))\n",
    "print('Root Mean Squared Error_val:', np.sqrt(mean_squared_error(y_val, y_pred_val)))\n",
    "print('R2 Score_val:', r2_score(y_val, y_pred_val))\n",
    "print('classification_report_train:\\n', classification_report(y_val, y_pred_val))"
   ]
  },
  {
   "cell_type": "markdown",
   "metadata": {},
   "source": [
    "### xgboost with under sampling"
   ]
  },
  {
   "cell_type": "code",
   "execution_count": 29,
   "metadata": {},
   "outputs": [
    {
     "name": "stdout",
     "output_type": "stream",
     "text": [
      "acc_train: 1.0\n",
      "Mean Absolute Error_train: 0.0\n",
      "Mean Squared Error_train: 0.0\n",
      "Root Mean Squared Error_train: 0.0\n",
      "R2 Score_train: 1.0\n",
      "classification_report_train:\n",
      "               precision    recall  f1-score   support\n",
      "\n",
      "           0       1.00      1.00      1.00       209\n",
      "           1       1.00      1.00      1.00       219\n",
      "\n",
      "    accuracy                           1.00       428\n",
      "   macro avg       1.00      1.00      1.00       428\n",
      "weighted avg       1.00      1.00      1.00       428\n",
      "\n",
      "**************************************************\n",
      "acc_val: 0.6851851851851852\n",
      "Mean Absolute Error_val: 0.3148148148148148\n",
      "Mean Squared Error_val: 0.3148148148148148\n",
      "Root Mean Squared Error_val: 0.5610836076867821\n",
      "R2 Score_val: -0.30397727272727293\n",
      "classification_report_train:\n",
      "               precision    recall  f1-score   support\n",
      "\n",
      "           0       0.74      0.72      0.73        32\n",
      "           1       0.61      0.64      0.62        22\n",
      "\n",
      "    accuracy                           0.69        54\n",
      "   macro avg       0.68      0.68      0.68        54\n",
      "weighted avg       0.69      0.69      0.69        54\n",
      "\n"
     ]
    }
   ],
   "source": [
    "xgboost_model_under_sampling = xgb.XGBClassifier(random_state=42)\n",
    "\n",
    "xgboost_model_under_sampling.fit(x_train, y_train)\n",
    "\n",
    "y_pred_train = xgboost_model_under_sampling.predict(x_train)\n",
    "print('acc_train:',accuracy_score(y_train, y_pred_train))\n",
    "print('Mean Absolute Error_train:',mean_absolute_error(y_train, y_pred_train))\n",
    "print('Mean Squared Error_train:', mean_squared_error(y_train, y_pred_train))\n",
    "print('Root Mean Squared Error_train:', np.sqrt(mean_squared_error(y_train, y_pred_train)))\n",
    "print('R2 Score_train:', r2_score(y_train, y_pred_train))\n",
    "print('classification_report_train:\\n', classification_report(y_train, y_pred_train))\n",
    "\n",
    "print (\"*\"*50)\n",
    "\n",
    "y_pred_val = xgboost_model_under_sampling.predict(x_val)\n",
    "print('acc_val:',accuracy_score(y_val, y_pred_val))\n",
    "print('Mean Absolute Error_val:',mean_absolute_error(y_val, y_pred_val))\n",
    "print('Mean Squared Error_val:', mean_squared_error(y_val, y_pred_val))\n",
    "print('Root Mean Squared Error_val:', np.sqrt(mean_squared_error(y_val, y_pred_val)))\n",
    "print('R2 Score_val:', r2_score(y_val, y_pred_val))\n",
    "print('classification_report_train:\\n', classification_report(y_val, y_pred_val))"
   ]
  },
  {
   "cell_type": "markdown",
   "metadata": {},
   "source": [
    "### Oversampling"
   ]
  },
  {
   "cell_type": "code",
   "execution_count": 30,
   "metadata": {},
   "outputs": [
    {
     "name": "stdout",
     "output_type": "stream",
     "text": [
      "(1000, 6)\n",
      "Outcome\n",
      "1    500\n",
      "0    500\n",
      "Name: count, dtype: int64\n"
     ]
    }
   ],
   "source": [
    "# Oversampling\n",
    "from imblearn.over_sampling import SMOTE\n",
    "\n",
    "sm = SMOTE(random_state=0)\n",
    "\n",
    "X_over,y_over = sm.fit_resample(x,y)\n",
    "print(X_over.shape)\n",
    "print(y_over.value_counts())\n"
   ]
  },
  {
   "cell_type": "code",
   "execution_count": 31,
   "metadata": {},
   "outputs": [],
   "source": [
    "x_train, x_temp, y_train, y_temp = train_test_split(X_over, y_over, test_size=0.2, random_state=42)\n",
    "x_val, x_test, y_val, y_test = train_test_split(x_temp, y_temp, test_size=0.5, random_state=42)"
   ]
  },
  {
   "cell_type": "markdown",
   "metadata": {},
   "source": [
    "### LogisticRegression with Oversampling"
   ]
  },
  {
   "cell_type": "code",
   "execution_count": 32,
   "metadata": {},
   "outputs": [
    {
     "name": "stdout",
     "output_type": "stream",
     "text": [
      "acc_train: 0.745\n",
      "Mean Absolute Error_train: 0.255\n",
      "Mean Squared Error_train: 0.255\n",
      "Root Mean Squared Error_train: 0.5049752469181039\n",
      "R2 Score_train: -0.020006375039844038\n",
      "classification_report_train:\n",
      "               precision    recall  f1-score   support\n",
      "\n",
      "           0       0.73      0.77      0.75       401\n",
      "           1       0.76      0.72      0.74       399\n",
      "\n",
      "    accuracy                           0.74       800\n",
      "   macro avg       0.75      0.74      0.74       800\n",
      "weighted avg       0.75      0.74      0.74       800\n",
      "\n",
      "**************************************************\n",
      "acc_val: 0.71\n",
      "Mean Absolute Error_val: 0.29\n",
      "Mean Squared Error_val: 0.29\n",
      "Root Mean Squared Error_val: 0.5385164807134504\n",
      "R2 Score_val: -0.1717171717171717\n",
      "classification_report_train:\n",
      "               precision    recall  f1-score   support\n",
      "\n",
      "           0       0.67      0.71      0.69        45\n",
      "           1       0.75      0.71      0.73        55\n",
      "\n",
      "    accuracy                           0.71       100\n",
      "   macro avg       0.71      0.71      0.71       100\n",
      "weighted avg       0.71      0.71      0.71       100\n",
      "\n"
     ]
    }
   ],
   "source": [
    "log_model_Over_sampling = LogisticRegression()\n",
    "\n",
    "log_model_Over_sampling.fit(x_train, y_train)\n",
    "\n",
    "y_pred_train = log_model_Over_sampling.predict(x_train)\n",
    "print('acc_train:',accuracy_score(y_train, y_pred_train))\n",
    "print('Mean Absolute Error_train:',mean_absolute_error(y_train, y_pred_train))\n",
    "print('Mean Squared Error_train:', mean_squared_error(y_train, y_pred_train))\n",
    "print('Root Mean Squared Error_train:', np.sqrt(mean_squared_error(y_train, y_pred_train)))\n",
    "print('R2 Score_train:', r2_score(y_train, y_pred_train))\n",
    "print('classification_report_train:\\n', classification_report(y_train, y_pred_train))\n",
    "\n",
    "print (\"*\"*50)\n",
    "\n",
    "y_pred_val = log_model_Over_sampling.predict(x_val)\n",
    "print('acc_val:',accuracy_score(y_val, y_pred_val))\n",
    "print('Mean Absolute Error_val:',mean_absolute_error(y_val, y_pred_val))\n",
    "print('Mean Squared Error_val:', mean_squared_error(y_val, y_pred_val))\n",
    "print('Root Mean Squared Error_val:', np.sqrt(mean_squared_error(y_val, y_pred_val)))\n",
    "print('R2 Score_val:', r2_score(y_val, y_pred_val))\n",
    "print('classification_report_train:\\n', classification_report(y_val, y_pred_val))"
   ]
  },
  {
   "cell_type": "code",
   "execution_count": 33,
   "metadata": {},
   "outputs": [
    {
     "name": "stdout",
     "output_type": "stream",
     "text": [
      "Fitting 5 folds for each of 36 candidates, totalling 180 fits\n",
      "Best Parameters: {'C': 1, 'max_iter': 100, 'penalty': 'l2', 'solver': 'liblinear'}\n",
      "acc_train: 0.755\n",
      "Mean Absolute Error_train: 0.245\n",
      "Mean Squared Error_train: 0.245\n",
      "Root Mean Squared Error_train: 0.4949747468305833\n",
      "R2 Score_train: 0.01999387496171834\n",
      "classification_report_train:\n",
      "               precision    recall  f1-score   support\n",
      "\n",
      "           0       0.75      0.77      0.76       401\n",
      "           1       0.76      0.74      0.75       399\n",
      "\n",
      "    accuracy                           0.76       800\n",
      "   macro avg       0.76      0.75      0.75       800\n",
      "weighted avg       0.76      0.76      0.75       800\n",
      "\n",
      "**************************************************\n",
      "acc_val: 0.73\n",
      "Mean Absolute Error_val: 0.27\n",
      "Mean Squared Error_val: 0.27\n",
      "Root Mean Squared Error_val: 0.5196152422706632\n",
      "R2 Score_val: -0.09090909090909083\n",
      "classification_report_val:\n",
      "               precision    recall  f1-score   support\n",
      "\n",
      "           0       0.70      0.71      0.70        45\n",
      "           1       0.76      0.75      0.75        55\n",
      "\n",
      "    accuracy                           0.73       100\n",
      "   macro avg       0.73      0.73      0.73       100\n",
      "weighted avg       0.73      0.73      0.73       100\n",
      "\n"
     ]
    }
   ],
   "source": [
    "param_grid = {\n",
    "    'C': [0.1, 1, 10],\n",
    "    'penalty': ['l1', 'l2'],\n",
    "    'solver': ['liblinear', 'saga'],\n",
    "    'max_iter': [100, 200, 300]}\n",
    "grid_search = GridSearchCV(estimator=LogisticRegression(), param_grid=param_grid, cv=5, n_jobs=-1, verbose=1)\n",
    "\n",
    "grid_search.fit(x_train, y_train)\n",
    "\n",
    "print(\"Best Parameters:\", grid_search.best_params_)\n",
    "\n",
    "y_pred_train = grid_search.predict(x_train)\n",
    "print('acc_train:', accuracy_score(y_train, y_pred_train))\n",
    "print('Mean Absolute Error_train:', mean_absolute_error(y_train, y_pred_train))\n",
    "print('Mean Squared Error_train:', mean_squared_error(y_train, y_pred_train))\n",
    "print('Root Mean Squared Error_train:', np.sqrt(mean_squared_error(y_train, y_pred_train)))\n",
    "print('R2 Score_train:', r2_score(y_train, y_pred_train))\n",
    "print('classification_report_train:\\n', classification_report(y_train, y_pred_train))\n",
    "\n",
    "print(\"*\" * 50)\n",
    "\n",
    "y_pred_val = grid_search.predict(x_val)\n",
    "print('acc_val:', accuracy_score(y_val, y_pred_val))\n",
    "print('Mean Absolute Error_val:', mean_absolute_error(y_val, y_pred_val))\n",
    "print('Mean Squared Error_val:', mean_squared_error(y_val, y_pred_val))\n",
    "print('Root Mean Squared Error_val:', np.sqrt(mean_squared_error(y_val, y_pred_val)))\n",
    "print('R2 Score_val:', r2_score(y_val, y_pred_val))\n",
    "print('classification_report_val:\\n', classification_report(y_val, y_pred_val))\n"
   ]
  },
  {
   "cell_type": "markdown",
   "metadata": {},
   "source": [
    "### RandomForestClassifier with Oversampling"
   ]
  },
  {
   "cell_type": "code",
   "execution_count": 34,
   "metadata": {},
   "outputs": [
    {
     "name": "stdout",
     "output_type": "stream",
     "text": [
      "acc_train: 1.0\n",
      "Mean Absolute Error_train: 0.0\n",
      "Mean Squared Error_train: 0.0\n",
      "Root Mean Squared Error_train: 0.0\n",
      "R2 Score_train: 1.0\n",
      "classification_report_train:\n",
      "               precision    recall  f1-score   support\n",
      "\n",
      "           0       1.00      1.00      1.00       401\n",
      "           1       1.00      1.00      1.00       399\n",
      "\n",
      "    accuracy                           1.00       800\n",
      "   macro avg       1.00      1.00      1.00       800\n",
      "weighted avg       1.00      1.00      1.00       800\n",
      "\n",
      "**************************************************\n",
      "acc_val: 0.74\n",
      "Mean Absolute Error_val: 0.26\n",
      "Mean Squared Error_val: 0.26\n",
      "Root Mean Squared Error_val: 0.5099019513592785\n",
      "R2 Score_val: -0.05050505050505061\n",
      "classification_report_train:\n",
      "               precision    recall  f1-score   support\n",
      "\n",
      "           0       0.70      0.73      0.72        45\n",
      "           1       0.77      0.75      0.76        55\n",
      "\n",
      "    accuracy                           0.74       100\n",
      "   macro avg       0.74      0.74      0.74       100\n",
      "weighted avg       0.74      0.74      0.74       100\n",
      "\n"
     ]
    }
   ],
   "source": [
    "Random_Forest_model_Over_sampling = RandomForestClassifier()\n",
    "\n",
    "Random_Forest_model_Over_sampling.fit(x_train, y_train)\n",
    "\n",
    "y_pred_train = Random_Forest_model_Over_sampling.predict(x_train)\n",
    "print('acc_train:',accuracy_score(y_train, y_pred_train))\n",
    "print('Mean Absolute Error_train:',mean_absolute_error(y_train, y_pred_train))\n",
    "print('Mean Squared Error_train:', mean_squared_error(y_train, y_pred_train))\n",
    "print('Root Mean Squared Error_train:', np.sqrt(mean_squared_error(y_train, y_pred_train)))\n",
    "print('R2 Score_train:', r2_score(y_train, y_pred_train))\n",
    "print('classification_report_train:\\n', classification_report(y_train, y_pred_train))\n",
    "\n",
    "print (\"*\"*50)\n",
    "\n",
    "y_pred_val = Random_Forest_model_Over_sampling.predict(x_val)\n",
    "print('acc_val:',accuracy_score(y_val, y_pred_val))\n",
    "print('Mean Absolute Error_val:',mean_absolute_error(y_val, y_pred_val))\n",
    "print('Mean Squared Error_val:', mean_squared_error(y_val, y_pred_val))\n",
    "print('Root Mean Squared Error_val:', np.sqrt(mean_squared_error(y_val, y_pred_val)))\n",
    "print('R2 Score_val:', r2_score(y_val, y_pred_val))\n",
    "print('classification_report_train:\\n', classification_report(y_val, y_pred_val))"
   ]
  },
  {
   "cell_type": "code",
   "execution_count": 35,
   "metadata": {},
   "outputs": [
    {
     "name": "stdout",
     "output_type": "stream",
     "text": [
      "Fitting 5 folds for each of 216 candidates, totalling 1080 fits\n",
      "Best Parameters: {'bootstrap': True, 'max_depth': None, 'min_samples_leaf': 1, 'min_samples_split': 2, 'n_estimators': 50}\n",
      "acc_train: 1.0\n",
      "Mean Absolute Error_train: 0.0\n",
      "Mean Squared Error_train: 0.0\n",
      "Root Mean Squared Error_train: 0.0\n",
      "R2 Score_train: 1.0\n",
      "classification_report_train:\n",
      "               precision    recall  f1-score   support\n",
      "\n",
      "           0       1.00      1.00      1.00       401\n",
      "           1       1.00      1.00      1.00       399\n",
      "\n",
      "    accuracy                           1.00       800\n",
      "   macro avg       1.00      1.00      1.00       800\n",
      "weighted avg       1.00      1.00      1.00       800\n",
      "\n",
      "**************************************************\n",
      "acc_val: 0.72\n",
      "Mean Absolute Error_val: 0.28\n",
      "Mean Squared Error_val: 0.28\n",
      "Root Mean Squared Error_val: 0.5291502622129182\n",
      "R2 Score_val: -0.13131313131313127\n",
      "classification_report_val:\n",
      "               precision    recall  f1-score   support\n",
      "\n",
      "           0       0.68      0.71      0.70        45\n",
      "           1       0.75      0.73      0.74        55\n",
      "\n",
      "    accuracy                           0.72       100\n",
      "   macro avg       0.72      0.72      0.72       100\n",
      "weighted avg       0.72      0.72      0.72       100\n",
      "\n"
     ]
    }
   ],
   "source": [
    "param_grid = {\n",
    "    'n_estimators': [50, 100, 200],\n",
    "    'max_depth': [None, 10, 20, 30],\n",
    "    'min_samples_split': [2, 5, 10],\n",
    "    'min_samples_leaf': [1, 2, 4],\n",
    "    'bootstrap': [True, False]}\n",
    "\n",
    "grid_search = GridSearchCV(estimator=RandomForestClassifier(), param_grid=param_grid, cv=5, n_jobs=-1, verbose=1)\n",
    "\n",
    "grid_search.fit(x_train, y_train)\n",
    "\n",
    "print(\"Best Parameters:\", grid_search.best_params_)\n",
    "\n",
    "y_pred_train = grid_search.predict(x_train)\n",
    "print('acc_train:', accuracy_score(y_train, y_pred_train))\n",
    "print('Mean Absolute Error_train:', mean_absolute_error(y_train, y_pred_train))\n",
    "print('Mean Squared Error_train:', mean_squared_error(y_train, y_pred_train))\n",
    "print('Root Mean Squared Error_train:', np.sqrt(mean_squared_error(y_train, y_pred_train)))\n",
    "print('R2 Score_train:', r2_score(y_train, y_pred_train))\n",
    "print('classification_report_train:\\n', classification_report(y_train, y_pred_train))\n",
    "\n",
    "print(\"*\" * 50)\n",
    "\n",
    "y_pred_val = grid_search.predict(x_val)\n",
    "print('acc_val:', accuracy_score(y_val, y_pred_val))\n",
    "print('Mean Absolute Error_val:', mean_absolute_error(y_val, y_pred_val))\n",
    "print('Mean Squared Error_val:', mean_squared_error(y_val, y_pred_val))\n",
    "print('Root Mean Squared Error_val:', np.sqrt(mean_squared_error(y_val, y_pred_val)))\n",
    "print('R2 Score_val:', r2_score(y_val, y_pred_val))\n",
    "print('classification_report_val:\\n', classification_report(y_val, y_pred_val))\n"
   ]
  },
  {
   "cell_type": "markdown",
   "metadata": {},
   "source": [
    "### DecisionTreeClassifier with Oversampling"
   ]
  },
  {
   "cell_type": "code",
   "execution_count": 36,
   "metadata": {},
   "outputs": [
    {
     "name": "stdout",
     "output_type": "stream",
     "text": [
      "acc_train: 1.0\n",
      "Mean Absolute Error_train: 0.0\n",
      "Mean Squared Error_train: 0.0\n",
      "Root Mean Squared Error_train: 0.0\n",
      "R2 Score_train: 1.0\n",
      "classification_report_train:\n",
      "               precision    recall  f1-score   support\n",
      "\n",
      "           0       1.00      1.00      1.00       401\n",
      "           1       1.00      1.00      1.00       399\n",
      "\n",
      "    accuracy                           1.00       800\n",
      "   macro avg       1.00      1.00      1.00       800\n",
      "weighted avg       1.00      1.00      1.00       800\n",
      "\n",
      "**************************************************\n",
      "acc_val: 0.73\n",
      "Mean Absolute Error_val: 0.27\n",
      "Mean Squared Error_val: 0.27\n",
      "Root Mean Squared Error_val: 0.5196152422706632\n",
      "R2 Score_val: -0.09090909090909083\n",
      "classification_report_train:\n",
      "               precision    recall  f1-score   support\n",
      "\n",
      "           0       0.68      0.76      0.72        45\n",
      "           1       0.78      0.71      0.74        55\n",
      "\n",
      "    accuracy                           0.73       100\n",
      "   macro avg       0.73      0.73      0.73       100\n",
      "weighted avg       0.73      0.73      0.73       100\n",
      "\n"
     ]
    }
   ],
   "source": [
    "Decision_Tree_model_Over_sampling = DecisionTreeClassifier()\n",
    "\n",
    "Decision_Tree_model_Over_sampling.fit(x_train, y_train)\n",
    "\n",
    "y_pred_train = Decision_Tree_model_Over_sampling.predict(x_train)\n",
    "print('acc_train:',accuracy_score(y_train, y_pred_train))\n",
    "print('Mean Absolute Error_train:',mean_absolute_error(y_train, y_pred_train))\n",
    "print('Mean Squared Error_train:', mean_squared_error(y_train, y_pred_train))\n",
    "print('Root Mean Squared Error_train:', np.sqrt(mean_squared_error(y_train, y_pred_train)))\n",
    "print('R2 Score_train:', r2_score(y_train, y_pred_train))\n",
    "print('classification_report_train:\\n', classification_report(y_train, y_pred_train))\n",
    "\n",
    "print (\"*\"*50)\n",
    "\n",
    "y_pred_val = Decision_Tree_model_Over_sampling.predict(x_val)\n",
    "print('acc_val:',accuracy_score(y_val, y_pred_val))\n",
    "print('Mean Absolute Error_val:',mean_absolute_error(y_val, y_pred_val))\n",
    "print('Mean Squared Error_val:', mean_squared_error(y_val, y_pred_val))\n",
    "print('Root Mean Squared Error_val:', np.sqrt(mean_squared_error(y_val, y_pred_val)))\n",
    "print('R2 Score_val:', r2_score(y_val, y_pred_val))\n",
    "print('classification_report_train:\\n', classification_report(y_val, y_pred_val))"
   ]
  },
  {
   "cell_type": "code",
   "execution_count": 37,
   "metadata": {},
   "outputs": [
    {
     "name": "stdout",
     "output_type": "stream",
     "text": [
      "Fitting 5 folds for each of 432 candidates, totalling 2160 fits\n",
      "Best Parameters: {'criterion': 'entropy', 'max_depth': 20, 'max_features': 'log2', 'min_samples_leaf': 1, 'min_samples_split': 10, 'splitter': 'best'}\n",
      "acc_train: 0.92625\n",
      "Mean Absolute Error_train: 0.07375\n",
      "Mean Squared Error_train: 0.07375\n",
      "Root Mean Squared Error_train: 0.27156951228000537\n",
      "R2 Score_train: 0.7049981562384764\n",
      "classification_report_train:\n",
      "               precision    recall  f1-score   support\n",
      "\n",
      "           0       0.94      0.92      0.93       401\n",
      "           1       0.92      0.94      0.93       399\n",
      "\n",
      "    accuracy                           0.93       800\n",
      "   macro avg       0.93      0.93      0.93       800\n",
      "weighted avg       0.93      0.93      0.93       800\n",
      "\n",
      "**************************************************\n",
      "acc_val: 0.74\n",
      "Mean Absolute Error_val: 0.26\n",
      "Mean Squared Error_val: 0.26\n",
      "Root Mean Squared Error_val: 0.5099019513592785\n",
      "R2 Score_val: -0.05050505050505061\n",
      "classification_report_val:\n",
      "               precision    recall  f1-score   support\n",
      "\n",
      "           0       0.73      0.67      0.70        45\n",
      "           1       0.75      0.80      0.77        55\n",
      "\n",
      "    accuracy                           0.74       100\n",
      "   macro avg       0.74      0.73      0.73       100\n",
      "weighted avg       0.74      0.74      0.74       100\n",
      "\n"
     ]
    },
    {
     "name": "stderr",
     "output_type": "stream",
     "text": [
      "c:\\Users\\Legion\\anaconda3\\envs\\aly_env\\lib\\site-packages\\sklearn\\model_selection\\_validation.py:425: FitFailedWarning: \n",
      "720 fits failed out of a total of 2160.\n",
      "The score on these train-test partitions for these parameters will be set to nan.\n",
      "If these failures are not expected, you can try to debug them by setting error_score='raise'.\n",
      "\n",
      "Below are more details about the failures:\n",
      "--------------------------------------------------------------------------------\n",
      "480 fits failed with the following error:\n",
      "Traceback (most recent call last):\n",
      "  File \"c:\\Users\\Legion\\anaconda3\\envs\\aly_env\\lib\\site-packages\\sklearn\\model_selection\\_validation.py\", line 729, in _fit_and_score\n",
      "    estimator.fit(X_train, y_train, **fit_params)\n",
      "  File \"c:\\Users\\Legion\\anaconda3\\envs\\aly_env\\lib\\site-packages\\sklearn\\base.py\", line 1145, in wrapper\n",
      "    estimator._validate_params()\n",
      "  File \"c:\\Users\\Legion\\anaconda3\\envs\\aly_env\\lib\\site-packages\\sklearn\\base.py\", line 638, in _validate_params\n",
      "    validate_parameter_constraints(\n",
      "  File \"c:\\Users\\Legion\\anaconda3\\envs\\aly_env\\lib\\site-packages\\sklearn\\utils\\_param_validation.py\", line 96, in validate_parameter_constraints\n",
      "    raise InvalidParameterError(\n",
      "sklearn.utils._param_validation.InvalidParameterError: The 'max_features' parameter of DecisionTreeClassifier must be an int in the range [1, inf), a float in the range (0.0, 1.0], a str among {'log2', 'sqrt'} or None. Got 'auto' instead.\n",
      "\n",
      "--------------------------------------------------------------------------------\n",
      "240 fits failed with the following error:\n",
      "Traceback (most recent call last):\n",
      "  File \"c:\\Users\\Legion\\anaconda3\\envs\\aly_env\\lib\\site-packages\\sklearn\\model_selection\\_validation.py\", line 729, in _fit_and_score\n",
      "    estimator.fit(X_train, y_train, **fit_params)\n",
      "  File \"c:\\Users\\Legion\\anaconda3\\envs\\aly_env\\lib\\site-packages\\sklearn\\base.py\", line 1145, in wrapper\n",
      "    estimator._validate_params()\n",
      "  File \"c:\\Users\\Legion\\anaconda3\\envs\\aly_env\\lib\\site-packages\\sklearn\\base.py\", line 638, in _validate_params\n",
      "    validate_parameter_constraints(\n",
      "  File \"c:\\Users\\Legion\\anaconda3\\envs\\aly_env\\lib\\site-packages\\sklearn\\utils\\_param_validation.py\", line 96, in validate_parameter_constraints\n",
      "    raise InvalidParameterError(\n",
      "sklearn.utils._param_validation.InvalidParameterError: The 'max_features' parameter of DecisionTreeClassifier must be an int in the range [1, inf), a float in the range (0.0, 1.0], a str among {'sqrt', 'log2'} or None. Got 'auto' instead.\n",
      "\n",
      "  warnings.warn(some_fits_failed_message, FitFailedWarning)\n",
      "c:\\Users\\Legion\\anaconda3\\envs\\aly_env\\lib\\site-packages\\sklearn\\model_selection\\_search.py:979: UserWarning: One or more of the test scores are non-finite: [    nan     nan     nan     nan     nan     nan     nan     nan     nan\n",
      "     nan     nan     nan     nan     nan     nan     nan     nan     nan\n",
      " 0.74125 0.71125 0.7375  0.70375 0.73375 0.68375 0.72875 0.70125 0.72375\n",
      " 0.69125 0.74125 0.71375 0.74375 0.7125  0.735   0.72125 0.71875 0.7325\n",
      " 0.74375 0.68    0.73625 0.72875 0.75    0.7     0.73375 0.715   0.73875\n",
      " 0.72125 0.72125 0.705   0.7625  0.69875 0.7425  0.71125 0.74    0.70125\n",
      "     nan     nan     nan     nan     nan     nan     nan     nan     nan\n",
      "     nan     nan     nan     nan     nan     nan     nan     nan     nan\n",
      " 0.7125  0.72125 0.76125 0.72625 0.75375 0.74125 0.74125 0.7425  0.72875\n",
      " 0.69875 0.7525  0.7475  0.7425  0.68    0.7375  0.73125 0.75125 0.66625\n",
      " 0.75375 0.71375 0.7525  0.7225  0.72125 0.74    0.745   0.725   0.75125\n",
      " 0.7025  0.74375 0.71625 0.74125 0.72125 0.75    0.6875  0.73125 0.70875\n",
      "     nan     nan     nan     nan     nan     nan     nan     nan     nan\n",
      "     nan     nan     nan     nan     nan     nan     nan     nan     nan\n",
      " 0.75    0.72125 0.72    0.72375 0.74625 0.71625 0.74625 0.71875 0.73375\n",
      " 0.69    0.73125 0.7175  0.7675  0.7425  0.72625 0.72875 0.76    0.6775\n",
      " 0.70375 0.72    0.73875 0.70375 0.73625 0.7125  0.74875 0.70625 0.72875\n",
      " 0.67875 0.7525  0.7075  0.7525  0.72625 0.7625  0.72375 0.76125 0.74125\n",
      "     nan     nan     nan     nan     nan     nan     nan     nan     nan\n",
      "     nan     nan     nan     nan     nan     nan     nan     nan     nan\n",
      " 0.72375 0.7     0.74375 0.7175  0.73875 0.74375 0.7325  0.71125 0.7375\n",
      " 0.71625 0.7475  0.71125 0.7325  0.715   0.73875 0.70625 0.75    0.71625\n",
      " 0.7325  0.71125 0.75125 0.6975  0.745   0.72    0.735   0.72375 0.7325\n",
      " 0.7     0.75125 0.6975  0.735   0.70125 0.74    0.7175  0.7325  0.72375\n",
      "     nan     nan     nan     nan     nan     nan     nan     nan     nan\n",
      "     nan     nan     nan     nan     nan     nan     nan     nan     nan\n",
      " 0.7425  0.71125 0.70875 0.71375 0.73125 0.74125 0.71875 0.695   0.71625\n",
      " 0.70875 0.7375  0.71875 0.74375 0.7125  0.745   0.68625 0.75625 0.6725\n",
      " 0.7275  0.725   0.735   0.71375 0.73625 0.69875 0.7225  0.7025  0.74375\n",
      " 0.71375 0.76125 0.70875 0.74    0.71125 0.735   0.72125 0.73875 0.71125\n",
      "     nan     nan     nan     nan     nan     nan     nan     nan     nan\n",
      "     nan     nan     nan     nan     nan     nan     nan     nan     nan\n",
      " 0.75125 0.7125  0.77    0.705   0.75    0.71    0.74    0.70625 0.76\n",
      " 0.70375 0.73625 0.74125 0.74875 0.68875 0.7375  0.6825  0.72875 0.715\n",
      " 0.76    0.73375 0.75625 0.70625 0.73875 0.73    0.72625 0.72875 0.75375\n",
      " 0.73375 0.735   0.6925  0.73875 0.72875 0.73125 0.71625 0.76    0.70375\n",
      "     nan     nan     nan     nan     nan     nan     nan     nan     nan\n",
      "     nan     nan     nan     nan     nan     nan     nan     nan     nan\n",
      " 0.72375 0.7325  0.7425  0.70125 0.73125 0.70375 0.7275  0.6825  0.7275\n",
      " 0.715   0.735   0.71625 0.74125 0.70125 0.7275  0.705   0.72875 0.74\n",
      " 0.74625 0.72    0.72625 0.735   0.7825  0.74375 0.735   0.6925  0.74125\n",
      " 0.7075  0.72875 0.7325  0.74    0.665   0.755   0.6825  0.74625 0.7125\n",
      "     nan     nan     nan     nan     nan     nan     nan     nan     nan\n",
      "     nan     nan     nan     nan     nan     nan     nan     nan     nan\n",
      " 0.74625 0.7425  0.74375 0.70875 0.73125 0.6975  0.74625 0.70625 0.7525\n",
      " 0.7175  0.73625 0.68875 0.74125 0.7175  0.745   0.72625 0.75875 0.71\n",
      " 0.75625 0.7375  0.73375 0.70875 0.75625 0.71    0.7375  0.7     0.75\n",
      " 0.70125 0.74375 0.70125 0.76875 0.7125  0.7475  0.71    0.745   0.7    ]\n",
      "  warnings.warn(\n"
     ]
    }
   ],
   "source": [
    "param_grid = {\n",
    "    'criterion': ['gini', 'entropy'],\n",
    "    'max_depth': [None, 10, 20, 30],\n",
    "    'min_samples_split': [2, 5, 10],\n",
    "    'min_samples_leaf': [1, 2, 4],\n",
    "    'max_features': ['auto', 'sqrt', 'log2'],\n",
    "    'splitter': ['best', 'random']}\n",
    "grid_search = GridSearchCV(estimator=DecisionTreeClassifier(), param_grid=param_grid, cv=5, n_jobs=-1, verbose=1)\n",
    "\n",
    "grid_search.fit(x_train, y_train)\n",
    "\n",
    "print(\"Best Parameters:\", grid_search.best_params_)\n",
    "\n",
    "y_pred_train = grid_search.predict(x_train)\n",
    "print('acc_train:', accuracy_score(y_train, y_pred_train))\n",
    "print('Mean Absolute Error_train:', mean_absolute_error(y_train, y_pred_train))\n",
    "print('Mean Squared Error_train:', mean_squared_error(y_train, y_pred_train))\n",
    "print('Root Mean Squared Error_train:', np.sqrt(mean_squared_error(y_train, y_pred_train)))\n",
    "print('R2 Score_train:', r2_score(y_train, y_pred_train))\n",
    "print('classification_report_train:\\n', classification_report(y_train, y_pred_train))\n",
    "\n",
    "print(\"*\" * 50)\n",
    "\n",
    "y_pred_val = grid_search.predict(x_val)\n",
    "print('acc_val:', accuracy_score(y_val, y_pred_val))\n",
    "print('Mean Absolute Error_val:', mean_absolute_error(y_val, y_pred_val))\n",
    "print('Mean Squared Error_val:', mean_squared_error(y_val, y_pred_val))\n",
    "print('Root Mean Squared Error_val:', np.sqrt(mean_squared_error(y_val, y_pred_val)))\n",
    "print('R2 Score_val:', r2_score(y_val, y_pred_val))\n",
    "print('classification_report_val:\\n', classification_report(y_val, y_pred_val))\n"
   ]
  },
  {
   "cell_type": "markdown",
   "metadata": {},
   "source": [
    "### xgboost with Oversampling"
   ]
  },
  {
   "cell_type": "code",
   "execution_count": 38,
   "metadata": {},
   "outputs": [
    {
     "name": "stdout",
     "output_type": "stream",
     "text": [
      "acc_train: 1.0\n",
      "Mean Absolute Error_train: 0.0\n",
      "Mean Squared Error_train: 0.0\n",
      "Root Mean Squared Error_train: 0.0\n",
      "R2 Score_train: 1.0\n",
      "classification_report_train:\n",
      "               precision    recall  f1-score   support\n",
      "\n",
      "           0       1.00      1.00      1.00       401\n",
      "           1       1.00      1.00      1.00       399\n",
      "\n",
      "    accuracy                           1.00       800\n",
      "   macro avg       1.00      1.00      1.00       800\n",
      "weighted avg       1.00      1.00      1.00       800\n",
      "\n",
      "**************************************************\n",
      "acc_val: 0.75\n",
      "Mean Absolute Error_val: 0.25\n",
      "Mean Squared Error_val: 0.25\n",
      "Root Mean Squared Error_val: 0.5\n",
      "R2 Score_val: -0.010101010101010166\n",
      "classification_report_train:\n",
      "               precision    recall  f1-score   support\n",
      "\n",
      "           0       0.76      0.64      0.70        45\n",
      "           1       0.74      0.84      0.79        55\n",
      "\n",
      "    accuracy                           0.75       100\n",
      "   macro avg       0.75      0.74      0.74       100\n",
      "weighted avg       0.75      0.75      0.75       100\n",
      "\n"
     ]
    }
   ],
   "source": [
    "xgboost_model_Over_sampling = xgb.XGBClassifier(random_state=42)\n",
    "\n",
    "xgboost_model_Over_sampling.fit(x_train, y_train)\n",
    "\n",
    "y_pred_train = xgboost_model_Over_sampling.predict(x_train)\n",
    "print('acc_train:',accuracy_score(y_train, y_pred_train))\n",
    "print('Mean Absolute Error_train:',mean_absolute_error(y_train, y_pred_train))\n",
    "print('Mean Squared Error_train:', mean_squared_error(y_train, y_pred_train))\n",
    "print('Root Mean Squared Error_train:', np.sqrt(mean_squared_error(y_train, y_pred_train)))\n",
    "print('R2 Score_train:', r2_score(y_train, y_pred_train))\n",
    "print('classification_report_train:\\n', classification_report(y_train, y_pred_train))\n",
    "\n",
    "print (\"*\"*50)\n",
    "\n",
    "y_pred_val = xgboost_model_Over_sampling.predict(x_val)\n",
    "print('acc_val:',accuracy_score(y_val, y_pred_val))\n",
    "print('Mean Absolute Error_val:',mean_absolute_error(y_val, y_pred_val))\n",
    "print('Mean Squared Error_val:', mean_squared_error(y_val, y_pred_val))\n",
    "print('Root Mean Squared Error_val:', np.sqrt(mean_squared_error(y_val, y_pred_val)))\n",
    "print('R2 Score_val:', r2_score(y_val, y_pred_val))\n",
    "print('classification_report_train:\\n', classification_report(y_val, y_pred_val))"
   ]
  },
  {
   "cell_type": "markdown",
   "metadata": {},
   "source": [
    "### best model is LogisticRegression without StandardScaler or sampling"
   ]
  },
  {
   "cell_type": "code",
   "execution_count": 39,
   "metadata": {},
   "outputs": [
    {
     "name": "stdout",
     "output_type": "stream",
     "text": [
      "acc_test: 0.75\n",
      "Mean Absolute Error_test: 0.25\n",
      "Mean Squared Error_test: 0.25\n",
      "Root Mean Squared Error_test: 0.5\n",
      "R2 Score_test: -0.006441223832528431\n",
      "classification_report_test:\n",
      "               precision    recall  f1-score   support\n",
      "\n",
      "           0       0.75      0.80      0.77        54\n",
      "           1       0.74      0.70      0.72        46\n",
      "\n",
      "    accuracy                           0.75       100\n",
      "   macro avg       0.75      0.75      0.75       100\n",
      "weighted avg       0.75      0.75      0.75       100\n",
      "\n"
     ]
    }
   ],
   "source": [
    "y_pred_val = log_model.predict(x_test)\n",
    "print('acc_test:',accuracy_score(y_test, y_pred_val))\n",
    "print('Mean Absolute Error_test:',mean_absolute_error(y_test, y_pred_val))\n",
    "print('Mean Squared Error_test:', mean_squared_error(y_test, y_pred_val))\n",
    "print('Root Mean Squared Error_test:', np.sqrt(mean_squared_error(y_test, y_pred_val)))\n",
    "print('R2 Score_test:', r2_score(y_test, y_pred_val))\n",
    "print('classification_report_test:\\n', classification_report(y_test, y_pred_val))"
   ]
  },
  {
   "cell_type": "markdown",
   "metadata": {},
   "source": [
    "### deploy"
   ]
  },
  {
   "cell_type": "code",
   "execution_count": 40,
   "metadata": {},
   "outputs": [],
   "source": [
    "import pickle\n",
    "pickle.dump(log_model, open('log_model.pkl','wb'))"
   ]
  }
 ],
 "metadata": {
  "kernelspec": {
   "display_name": "aly_env",
   "language": "python",
   "name": "python3"
  },
  "language_info": {
   "codemirror_mode": {
    "name": "ipython",
    "version": 3
   },
   "file_extension": ".py",
   "mimetype": "text/x-python",
   "name": "python",
   "nbconvert_exporter": "python",
   "pygments_lexer": "ipython3",
   "version": "3.8.19"
  }
 },
 "nbformat": 4,
 "nbformat_minor": 2
}
